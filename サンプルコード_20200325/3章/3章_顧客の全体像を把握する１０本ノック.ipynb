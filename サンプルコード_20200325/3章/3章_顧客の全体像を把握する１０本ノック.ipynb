{
 "cells": [
  {
   "cell_type": "markdown",
   "metadata": {},
   "source": [
    "# 3章 顧客の全体像を把握する１０本ノック\n",
    "\n",
    "ここでは、スポーツジムの会員データを使って顧客の行動を分析していきます。  \n",
    "これまでと同様にまずはデータを理解し、加工した後、  \n",
    "顧客の行動データを分析していきましょう。  \n",
    "ここでは、機械学習に向けての初期分析を行います。"
   ]
  },
  {
   "cell_type": "code",
   "execution_count": 84,
   "metadata": {},
   "outputs": [
    {
     "output_type": "execute_result",
     "data": {
      "text/plain": [
       "            log_id customer_id     usedate\n",
       "0  L00000049012330    AS009373  2018-04-01\n",
       "1  L00000049012331    AS015315  2018-04-01\n",
       "2  L00000049012332    AS040841  2018-04-01\n",
       "3  L00000049012333    AS046594  2018-04-01\n",
       "4  L00000049012334    AS073285  2018-04-01"
      ],
      "text/html": "<div>\n<style scoped>\n    .dataframe tbody tr th:only-of-type {\n        vertical-align: middle;\n    }\n\n    .dataframe tbody tr th {\n        vertical-align: top;\n    }\n\n    .dataframe thead th {\n        text-align: right;\n    }\n</style>\n<table border=\"1\" class=\"dataframe\">\n  <thead>\n    <tr style=\"text-align: right;\">\n      <th></th>\n      <th>log_id</th>\n      <th>customer_id</th>\n      <th>usedate</th>\n    </tr>\n  </thead>\n  <tbody>\n    <tr>\n      <th>0</th>\n      <td>L00000049012330</td>\n      <td>AS009373</td>\n      <td>2018-04-01</td>\n    </tr>\n    <tr>\n      <th>1</th>\n      <td>L00000049012331</td>\n      <td>AS015315</td>\n      <td>2018-04-01</td>\n    </tr>\n    <tr>\n      <th>2</th>\n      <td>L00000049012332</td>\n      <td>AS040841</td>\n      <td>2018-04-01</td>\n    </tr>\n    <tr>\n      <th>3</th>\n      <td>L00000049012333</td>\n      <td>AS046594</td>\n      <td>2018-04-01</td>\n    </tr>\n    <tr>\n      <th>4</th>\n      <td>L00000049012334</td>\n      <td>AS073285</td>\n      <td>2018-04-01</td>\n    </tr>\n  </tbody>\n</table>\n</div>"
     },
     "metadata": {},
     "execution_count": 84
    }
   ],
   "source": [
    "import pandas as pd \n",
    "uselog = pd.read_csv('use_log.csv')\n",
    "uselog.head()"
   ]
  },
  {
   "cell_type": "code",
   "execution_count": 85,
   "metadata": {},
   "outputs": [
    {
     "output_type": "execute_result",
     "data": {
      "text/plain": [
       "197428"
      ]
     },
     "metadata": {},
     "execution_count": 85
    }
   ],
   "source": [
    "len(uselog)"
   ]
  },
  {
   "cell_type": "code",
   "execution_count": 86,
   "metadata": {},
   "outputs": [
    {
     "output_type": "execute_result",
     "data": {
      "text/plain": [
       "  customer_id   name class gender           start_date end_date campaign_id  \\\n",
       "0    OA832399   XXXX   C01      F  2015-05-01 00:00:00      NaN         CA1   \n",
       "1    PL270116  XXXXX   C01      M  2015-05-01 00:00:00      NaN         CA1   \n",
       "2    OA974876  XXXXX   C01      M  2015-05-01 00:00:00      NaN         CA1   \n",
       "3    HD024127  XXXXX   C01      F  2015-05-01 00:00:00      NaN         CA1   \n",
       "4    HD661448  XXXXX   C03      F  2015-05-01 00:00:00      NaN         CA1   \n",
       "\n",
       "   is_deleted  \n",
       "0           0  \n",
       "1           0  \n",
       "2           0  \n",
       "3           0  \n",
       "4           0  "
      ],
      "text/html": "<div>\n<style scoped>\n    .dataframe tbody tr th:only-of-type {\n        vertical-align: middle;\n    }\n\n    .dataframe tbody tr th {\n        vertical-align: top;\n    }\n\n    .dataframe thead th {\n        text-align: right;\n    }\n</style>\n<table border=\"1\" class=\"dataframe\">\n  <thead>\n    <tr style=\"text-align: right;\">\n      <th></th>\n      <th>customer_id</th>\n      <th>name</th>\n      <th>class</th>\n      <th>gender</th>\n      <th>start_date</th>\n      <th>end_date</th>\n      <th>campaign_id</th>\n      <th>is_deleted</th>\n    </tr>\n  </thead>\n  <tbody>\n    <tr>\n      <th>0</th>\n      <td>OA832399</td>\n      <td>XXXX</td>\n      <td>C01</td>\n      <td>F</td>\n      <td>2015-05-01 00:00:00</td>\n      <td>NaN</td>\n      <td>CA1</td>\n      <td>0</td>\n    </tr>\n    <tr>\n      <th>1</th>\n      <td>PL270116</td>\n      <td>XXXXX</td>\n      <td>C01</td>\n      <td>M</td>\n      <td>2015-05-01 00:00:00</td>\n      <td>NaN</td>\n      <td>CA1</td>\n      <td>0</td>\n    </tr>\n    <tr>\n      <th>2</th>\n      <td>OA974876</td>\n      <td>XXXXX</td>\n      <td>C01</td>\n      <td>M</td>\n      <td>2015-05-01 00:00:00</td>\n      <td>NaN</td>\n      <td>CA1</td>\n      <td>0</td>\n    </tr>\n    <tr>\n      <th>3</th>\n      <td>HD024127</td>\n      <td>XXXXX</td>\n      <td>C01</td>\n      <td>F</td>\n      <td>2015-05-01 00:00:00</td>\n      <td>NaN</td>\n      <td>CA1</td>\n      <td>0</td>\n    </tr>\n    <tr>\n      <th>4</th>\n      <td>HD661448</td>\n      <td>XXXXX</td>\n      <td>C03</td>\n      <td>F</td>\n      <td>2015-05-01 00:00:00</td>\n      <td>NaN</td>\n      <td>CA1</td>\n      <td>0</td>\n    </tr>\n  </tbody>\n</table>\n</div>"
     },
     "metadata": {},
     "execution_count": 86
    }
   ],
   "source": [
    "customer = pd.read_csv('customer_master.csv')\n",
    "customer.head()"
   ]
  },
  {
   "cell_type": "code",
   "execution_count": 87,
   "metadata": {},
   "outputs": [
    {
     "output_type": "execute_result",
     "data": {
      "text/plain": [
       "4192"
      ]
     },
     "metadata": {},
     "execution_count": 87
    }
   ],
   "source": [
    "len(customer)"
   ]
  },
  {
   "cell_type": "code",
   "execution_count": 88,
   "metadata": {},
   "outputs": [
    {
     "output_type": "execute_result",
     "data": {
      "text/plain": [
       "  class class_name  price\n",
       "0   C01     オールタイム  10500\n",
       "1   C02      デイタイム   7500\n",
       "2   C03        ナイト   6000"
      ],
      "text/html": "<div>\n<style scoped>\n    .dataframe tbody tr th:only-of-type {\n        vertical-align: middle;\n    }\n\n    .dataframe tbody tr th {\n        vertical-align: top;\n    }\n\n    .dataframe thead th {\n        text-align: right;\n    }\n</style>\n<table border=\"1\" class=\"dataframe\">\n  <thead>\n    <tr style=\"text-align: right;\">\n      <th></th>\n      <th>class</th>\n      <th>class_name</th>\n      <th>price</th>\n    </tr>\n  </thead>\n  <tbody>\n    <tr>\n      <th>0</th>\n      <td>C01</td>\n      <td>オールタイム</td>\n      <td>10500</td>\n    </tr>\n    <tr>\n      <th>1</th>\n      <td>C02</td>\n      <td>デイタイム</td>\n      <td>7500</td>\n    </tr>\n    <tr>\n      <th>2</th>\n      <td>C03</td>\n      <td>ナイト</td>\n      <td>6000</td>\n    </tr>\n  </tbody>\n</table>\n</div>"
     },
     "metadata": {},
     "execution_count": 88
    }
   ],
   "source": [
    "class_master = pd.read_csv('class_master.csv')\n",
    "class_master.head()\n"
   ]
  },
  {
   "cell_type": "code",
   "execution_count": 89,
   "metadata": {},
   "outputs": [
    {
     "output_type": "execute_result",
     "data": {
      "text/plain": [
       "3"
      ]
     },
     "metadata": {},
     "execution_count": 89
    }
   ],
   "source": [
    "len(class_master)"
   ]
  },
  {
   "cell_type": "code",
   "execution_count": 90,
   "metadata": {},
   "outputs": [
    {
     "output_type": "execute_result",
     "data": {
      "text/plain": [
       "  campaign_id campaign_name\n",
       "0         CA1            通常\n",
       "1         CA2         入会費半額\n",
       "2         CA3         入会費無料"
      ],
      "text/html": "<div>\n<style scoped>\n    .dataframe tbody tr th:only-of-type {\n        vertical-align: middle;\n    }\n\n    .dataframe tbody tr th {\n        vertical-align: top;\n    }\n\n    .dataframe thead th {\n        text-align: right;\n    }\n</style>\n<table border=\"1\" class=\"dataframe\">\n  <thead>\n    <tr style=\"text-align: right;\">\n      <th></th>\n      <th>campaign_id</th>\n      <th>campaign_name</th>\n    </tr>\n  </thead>\n  <tbody>\n    <tr>\n      <th>0</th>\n      <td>CA1</td>\n      <td>通常</td>\n    </tr>\n    <tr>\n      <th>1</th>\n      <td>CA2</td>\n      <td>入会費半額</td>\n    </tr>\n    <tr>\n      <th>2</th>\n      <td>CA3</td>\n      <td>入会費無料</td>\n    </tr>\n  </tbody>\n</table>\n</div>"
     },
     "metadata": {},
     "execution_count": 90
    }
   ],
   "source": [
    "campaign_master = pd.read_csv('campaign_master.csv')\n",
    "campaign_master.head()"
   ]
  },
  {
   "cell_type": "code",
   "execution_count": 91,
   "metadata": {},
   "outputs": [
    {
     "output_type": "execute_result",
     "data": {
      "text/plain": [
       "3"
      ]
     },
     "metadata": {},
     "execution_count": 91
    }
   ],
   "source": [
    "len(campaign_master)"
   ]
  },
  {
   "cell_type": "markdown",
   "metadata": {},
   "source": [
    "### ノック22：顧客データを整形しよう"
   ]
  },
  {
   "cell_type": "code",
   "execution_count": 92,
   "metadata": {},
   "outputs": [
    {
     "output_type": "execute_result",
     "data": {
      "text/plain": [
       "  customer_id   name class gender           start_date end_date campaign_id  \\\n",
       "0    OA832399   XXXX   C01      F  2015-05-01 00:00:00      NaN         CA1   \n",
       "1    PL270116  XXXXX   C01      M  2015-05-01 00:00:00      NaN         CA1   \n",
       "2    OA974876  XXXXX   C01      M  2015-05-01 00:00:00      NaN         CA1   \n",
       "3    HD024127  XXXXX   C01      F  2015-05-01 00:00:00      NaN         CA1   \n",
       "4    HD661448  XXXXX   C03      F  2015-05-01 00:00:00      NaN         CA1   \n",
       "\n",
       "   is_deleted class_name  price  \n",
       "0           0     オールタイム  10500  \n",
       "1           0     オールタイム  10500  \n",
       "2           0     オールタイム  10500  \n",
       "3           0     オールタイム  10500  \n",
       "4           0        ナイト   6000  "
      ],
      "text/html": "<div>\n<style scoped>\n    .dataframe tbody tr th:only-of-type {\n        vertical-align: middle;\n    }\n\n    .dataframe tbody tr th {\n        vertical-align: top;\n    }\n\n    .dataframe thead th {\n        text-align: right;\n    }\n</style>\n<table border=\"1\" class=\"dataframe\">\n  <thead>\n    <tr style=\"text-align: right;\">\n      <th></th>\n      <th>customer_id</th>\n      <th>name</th>\n      <th>class</th>\n      <th>gender</th>\n      <th>start_date</th>\n      <th>end_date</th>\n      <th>campaign_id</th>\n      <th>is_deleted</th>\n      <th>class_name</th>\n      <th>price</th>\n    </tr>\n  </thead>\n  <tbody>\n    <tr>\n      <th>0</th>\n      <td>OA832399</td>\n      <td>XXXX</td>\n      <td>C01</td>\n      <td>F</td>\n      <td>2015-05-01 00:00:00</td>\n      <td>NaN</td>\n      <td>CA1</td>\n      <td>0</td>\n      <td>オールタイム</td>\n      <td>10500</td>\n    </tr>\n    <tr>\n      <th>1</th>\n      <td>PL270116</td>\n      <td>XXXXX</td>\n      <td>C01</td>\n      <td>M</td>\n      <td>2015-05-01 00:00:00</td>\n      <td>NaN</td>\n      <td>CA1</td>\n      <td>0</td>\n      <td>オールタイム</td>\n      <td>10500</td>\n    </tr>\n    <tr>\n      <th>2</th>\n      <td>OA974876</td>\n      <td>XXXXX</td>\n      <td>C01</td>\n      <td>M</td>\n      <td>2015-05-01 00:00:00</td>\n      <td>NaN</td>\n      <td>CA1</td>\n      <td>0</td>\n      <td>オールタイム</td>\n      <td>10500</td>\n    </tr>\n    <tr>\n      <th>3</th>\n      <td>HD024127</td>\n      <td>XXXXX</td>\n      <td>C01</td>\n      <td>F</td>\n      <td>2015-05-01 00:00:00</td>\n      <td>NaN</td>\n      <td>CA1</td>\n      <td>0</td>\n      <td>オールタイム</td>\n      <td>10500</td>\n    </tr>\n    <tr>\n      <th>4</th>\n      <td>HD661448</td>\n      <td>XXXXX</td>\n      <td>C03</td>\n      <td>F</td>\n      <td>2015-05-01 00:00:00</td>\n      <td>NaN</td>\n      <td>CA1</td>\n      <td>0</td>\n      <td>ナイト</td>\n      <td>6000</td>\n    </tr>\n  </tbody>\n</table>\n</div>"
     },
     "metadata": {},
     "execution_count": 92
    }
   ],
   "source": [
    "customer_join = pd.merge(customer,class_master,on='class',how='left')\n",
    "\n",
    "customer_join.head()"
   ]
  },
  {
   "cell_type": "code",
   "execution_count": 93,
   "metadata": {},
   "outputs": [
    {
     "output_type": "execute_result",
     "data": {
      "text/plain": [
       "  customer_id   name class gender           start_date end_date campaign_id  \\\n",
       "0    OA832399   XXXX   C01      F  2015-05-01 00:00:00      NaN         CA1   \n",
       "1    PL270116  XXXXX   C01      M  2015-05-01 00:00:00      NaN         CA1   \n",
       "2    OA974876  XXXXX   C01      M  2015-05-01 00:00:00      NaN         CA1   \n",
       "3    HD024127  XXXXX   C01      F  2015-05-01 00:00:00      NaN         CA1   \n",
       "4    HD661448  XXXXX   C03      F  2015-05-01 00:00:00      NaN         CA1   \n",
       "\n",
       "   is_deleted class_name  price campaign_name  \n",
       "0           0     オールタイム  10500            通常  \n",
       "1           0     オールタイム  10500            通常  \n",
       "2           0     オールタイム  10500            通常  \n",
       "3           0     オールタイム  10500            通常  \n",
       "4           0        ナイト   6000            通常  "
      ],
      "text/html": "<div>\n<style scoped>\n    .dataframe tbody tr th:only-of-type {\n        vertical-align: middle;\n    }\n\n    .dataframe tbody tr th {\n        vertical-align: top;\n    }\n\n    .dataframe thead th {\n        text-align: right;\n    }\n</style>\n<table border=\"1\" class=\"dataframe\">\n  <thead>\n    <tr style=\"text-align: right;\">\n      <th></th>\n      <th>customer_id</th>\n      <th>name</th>\n      <th>class</th>\n      <th>gender</th>\n      <th>start_date</th>\n      <th>end_date</th>\n      <th>campaign_id</th>\n      <th>is_deleted</th>\n      <th>class_name</th>\n      <th>price</th>\n      <th>campaign_name</th>\n    </tr>\n  </thead>\n  <tbody>\n    <tr>\n      <th>0</th>\n      <td>OA832399</td>\n      <td>XXXX</td>\n      <td>C01</td>\n      <td>F</td>\n      <td>2015-05-01 00:00:00</td>\n      <td>NaN</td>\n      <td>CA1</td>\n      <td>0</td>\n      <td>オールタイム</td>\n      <td>10500</td>\n      <td>通常</td>\n    </tr>\n    <tr>\n      <th>1</th>\n      <td>PL270116</td>\n      <td>XXXXX</td>\n      <td>C01</td>\n      <td>M</td>\n      <td>2015-05-01 00:00:00</td>\n      <td>NaN</td>\n      <td>CA1</td>\n      <td>0</td>\n      <td>オールタイム</td>\n      <td>10500</td>\n      <td>通常</td>\n    </tr>\n    <tr>\n      <th>2</th>\n      <td>OA974876</td>\n      <td>XXXXX</td>\n      <td>C01</td>\n      <td>M</td>\n      <td>2015-05-01 00:00:00</td>\n      <td>NaN</td>\n      <td>CA1</td>\n      <td>0</td>\n      <td>オールタイム</td>\n      <td>10500</td>\n      <td>通常</td>\n    </tr>\n    <tr>\n      <th>3</th>\n      <td>HD024127</td>\n      <td>XXXXX</td>\n      <td>C01</td>\n      <td>F</td>\n      <td>2015-05-01 00:00:00</td>\n      <td>NaN</td>\n      <td>CA1</td>\n      <td>0</td>\n      <td>オールタイム</td>\n      <td>10500</td>\n      <td>通常</td>\n    </tr>\n    <tr>\n      <th>4</th>\n      <td>HD661448</td>\n      <td>XXXXX</td>\n      <td>C03</td>\n      <td>F</td>\n      <td>2015-05-01 00:00:00</td>\n      <td>NaN</td>\n      <td>CA1</td>\n      <td>0</td>\n      <td>ナイト</td>\n      <td>6000</td>\n      <td>通常</td>\n    </tr>\n  </tbody>\n</table>\n</div>"
     },
     "metadata": {},
     "execution_count": 93
    }
   ],
   "source": [
    "customer_join = pd.merge(customer_join,campaign_master,on='campaign_id',how='left')\n",
    "customer_join.head()"
   ]
  },
  {
   "cell_type": "code",
   "execution_count": 94,
   "metadata": {},
   "outputs": [
    {
     "output_type": "execute_result",
     "data": {
      "text/plain": [
       "4192"
      ]
     },
     "metadata": {},
     "execution_count": 94
    }
   ],
   "source": [
    "len(customer_join)"
   ]
  },
  {
   "cell_type": "code",
   "execution_count": 95,
   "metadata": {},
   "outputs": [
    {
     "output_type": "execute_result",
     "data": {
      "text/plain": [
       "customer_id         0\n",
       "name                0\n",
       "class               0\n",
       "gender              0\n",
       "start_date          0\n",
       "end_date         2842\n",
       "campaign_id         0\n",
       "is_deleted          0\n",
       "class_name          0\n",
       "price               0\n",
       "campaign_name       0\n",
       "dtype: int64"
      ]
     },
     "metadata": {},
     "execution_count": 95
    }
   ],
   "source": [
    "customer_join.isnull().sum()\n",
    "#退会していないユーザーは退会日（end_date）が無いので欠損値となる"
   ]
  },
  {
   "cell_type": "markdown",
   "metadata": {},
   "source": [
    "### ノック23：顧客データの基礎集計をしよう"
   ]
  },
  {
   "cell_type": "code",
   "execution_count": 96,
   "metadata": {},
   "outputs": [
    {
     "output_type": "execute_result",
     "data": {
      "text/plain": [
       "class_name\n",
       "オールタイム    2045\n",
       "デイタイム     1019\n",
       "ナイト       1128\n",
       "Name: customer_id, dtype: int64"
      ]
     },
     "metadata": {},
     "execution_count": 96
    }
   ],
   "source": [
    "\n",
    "#customer_id毎にgroupbyでカウント\n",
    "customer_join.groupby('class_name').count()['customer_id']"
   ]
  },
  {
   "cell_type": "code",
   "execution_count": 97,
   "metadata": {},
   "outputs": [
    {
     "output_type": "execute_result",
     "data": {
      "text/plain": [
       "campaign_name\n",
       "入会費半額     650\n",
       "入会費無料     492\n",
       "通常       3050\n",
       "Name: customer_id, dtype: int64"
      ]
     },
     "metadata": {},
     "execution_count": 97
    }
   ],
   "source": [
    "customer_join.groupby('campaign_name').count()['customer_id']"
   ]
  },
  {
   "cell_type": "code",
   "execution_count": 98,
   "metadata": {},
   "outputs": [
    {
     "output_type": "execute_result",
     "data": {
      "text/plain": [
       "gender\n",
       "F    1983\n",
       "M    2209\n",
       "Name: customer_id, dtype: int64"
      ]
     },
     "metadata": {},
     "execution_count": 98
    }
   ],
   "source": [
    "customer_join.groupby('gender').count()['customer_id']"
   ]
  },
  {
   "cell_type": "code",
   "execution_count": 99,
   "metadata": {},
   "outputs": [
    {
     "output_type": "execute_result",
     "data": {
      "text/plain": [
       "is_deleted\n",
       "0    2842\n",
       "1    1350\n",
       "Name: customer_id, dtype: int64"
      ]
     },
     "metadata": {},
     "execution_count": 99
    }
   ],
   "source": [
    "customer_join.groupby('is_deleted').count()['customer_id']"
   ]
  },
  {
   "cell_type": "code",
   "execution_count": 100,
   "metadata": {},
   "outputs": [
    {
     "output_type": "execute_result",
     "data": {
      "text/plain": [
       "1361"
      ]
     },
     "metadata": {},
     "execution_count": 100
    }
   ],
   "source": [
    "customer_join['start_date'] = pd.to_datetime(customer_join['start_date'])\n",
    "customer_start = customer_join.loc[customer_join['start_date'] > pd.to_datetime('20180401')]\n",
    "len(customer_start)"
   ]
  },
  {
   "cell_type": "markdown",
   "metadata": {},
   "source": [
    "### ノック24：最新顧客データの基礎集計をしよう"
   ]
  },
  {
   "cell_type": "code",
   "execution_count": 101,
   "metadata": {},
   "outputs": [
    {
     "output_type": "execute_result",
     "data": {
      "text/plain": [
       "2953"
      ]
     },
     "metadata": {},
     "execution_count": 101
    }
   ],
   "source": [
    "customer_join['end_date'] = pd.to_datetime(customer_join['end_date'])\n",
    "customer_newer = customer_join.loc[(customer_join['end_date'] >= pd.to_datetime('20190331')) | (customer_join['end_date'].isna())]\n",
    "len(customer_newer)"
   ]
  },
  {
   "cell_type": "code",
   "execution_count": 102,
   "metadata": {},
   "outputs": [
    {
     "output_type": "execute_result",
     "data": {
      "text/plain": [
       "array([                          'NaT', '2019-03-31T00:00:00.000000000'],\n",
       "      dtype='datetime64[ns]')"
      ]
     },
     "metadata": {},
     "execution_count": 102
    }
   ],
   "source": [
    "customer_newer['end_date'].unique()"
   ]
  },
  {
   "cell_type": "code",
   "execution_count": 103,
   "metadata": {},
   "outputs": [
    {
     "output_type": "execute_result",
     "data": {
      "text/plain": [
       "class_name\n",
       "オールタイム    1444\n",
       "デイタイム      696\n",
       "ナイト        813\n",
       "Name: customer_id, dtype: int64"
      ]
     },
     "metadata": {},
     "execution_count": 103
    }
   ],
   "source": [
    "customer_newer.groupby('class_name').count()['customer_id']"
   ]
  },
  {
   "cell_type": "code",
   "execution_count": 104,
   "metadata": {},
   "outputs": [
    {
     "output_type": "execute_result",
     "data": {
      "text/plain": [
       "campaign_name\n",
       "入会費半額     311\n",
       "入会費無料     242\n",
       "通常       2400\n",
       "Name: customer_id, dtype: int64"
      ]
     },
     "metadata": {},
     "execution_count": 104
    }
   ],
   "source": [
    "customer_newer.groupby('campaign_name').count()['customer_id']"
   ]
  },
  {
   "cell_type": "code",
   "execution_count": 105,
   "metadata": {},
   "outputs": [
    {
     "output_type": "execute_result",
     "data": {
      "text/plain": [
       "gender\n",
       "F    1400\n",
       "M    1553\n",
       "Name: customer_id, dtype: int64"
      ]
     },
     "metadata": {},
     "execution_count": 105
    }
   ],
   "source": [
    "customer_newer.groupby('gender').count()['customer_id']"
   ]
  },
  {
   "cell_type": "code",
   "execution_count": null,
   "metadata": {},
   "outputs": [],
   "source": []
  },
  {
   "cell_type": "markdown",
   "metadata": {},
   "source": [
    "### ノック25：利用履歴データを集計しよう"
   ]
  },
  {
   "cell_type": "code",
   "execution_count": 106,
   "metadata": {},
   "outputs": [
    {
     "output_type": "execute_result",
     "data": {
      "text/plain": [
       "           年月 customer_id  count\n",
       "0      201804    AS002855      4\n",
       "1      201804    AS009013      2\n",
       "2      201804    AS009373      3\n",
       "3      201804    AS015315      6\n",
       "4      201804    AS015739      7\n",
       "...       ...         ...    ...\n",
       "36837  201903    TS995853      8\n",
       "36838  201903    TS998593      8\n",
       "36839  201903    TS999079      3\n",
       "36840  201903    TS999231      6\n",
       "36841  201903    TS999855      4\n",
       "\n",
       "[36842 rows x 3 columns]"
      ],
      "text/html": "<div>\n<style scoped>\n    .dataframe tbody tr th:only-of-type {\n        vertical-align: middle;\n    }\n\n    .dataframe tbody tr th {\n        vertical-align: top;\n    }\n\n    .dataframe thead th {\n        text-align: right;\n    }\n</style>\n<table border=\"1\" class=\"dataframe\">\n  <thead>\n    <tr style=\"text-align: right;\">\n      <th></th>\n      <th>年月</th>\n      <th>customer_id</th>\n      <th>count</th>\n    </tr>\n  </thead>\n  <tbody>\n    <tr>\n      <th>0</th>\n      <td>201804</td>\n      <td>AS002855</td>\n      <td>4</td>\n    </tr>\n    <tr>\n      <th>1</th>\n      <td>201804</td>\n      <td>AS009013</td>\n      <td>2</td>\n    </tr>\n    <tr>\n      <th>2</th>\n      <td>201804</td>\n      <td>AS009373</td>\n      <td>3</td>\n    </tr>\n    <tr>\n      <th>3</th>\n      <td>201804</td>\n      <td>AS015315</td>\n      <td>6</td>\n    </tr>\n    <tr>\n      <th>4</th>\n      <td>201804</td>\n      <td>AS015739</td>\n      <td>7</td>\n    </tr>\n    <tr>\n      <th>...</th>\n      <td>...</td>\n      <td>...</td>\n      <td>...</td>\n    </tr>\n    <tr>\n      <th>36837</th>\n      <td>201903</td>\n      <td>TS995853</td>\n      <td>8</td>\n    </tr>\n    <tr>\n      <th>36838</th>\n      <td>201903</td>\n      <td>TS998593</td>\n      <td>8</td>\n    </tr>\n    <tr>\n      <th>36839</th>\n      <td>201903</td>\n      <td>TS999079</td>\n      <td>3</td>\n    </tr>\n    <tr>\n      <th>36840</th>\n      <td>201903</td>\n      <td>TS999231</td>\n      <td>6</td>\n    </tr>\n    <tr>\n      <th>36841</th>\n      <td>201903</td>\n      <td>TS999855</td>\n      <td>4</td>\n    </tr>\n  </tbody>\n</table>\n<p>36842 rows × 3 columns</p>\n</div>"
     },
     "metadata": {},
     "execution_count": 106
    }
   ],
   "source": [
    "uselog['usedate'] = pd.to_datetime(uselog['usedate'])\n",
    "uselog['年月'] = uselog['usedate'].dt.strftime('%Y%m')\n",
    "uselog_months = uselog.groupby(['年月','customer_id'],as_index=False).count()\n",
    "uselog_months.rename(columns={'log_id':'count'},inplace=True)\n",
    "del uselog_months['usedate']\n",
    "uselog_months"
   ]
  },
  {
   "cell_type": "code",
   "execution_count": 107,
   "metadata": {},
   "outputs": [
    {
     "output_type": "execute_result",
     "data": {
      "text/plain": [
       "  customer_id      mean  median  max  min\n",
       "0    AS002855  4.500000     5.0    7    2\n",
       "1    AS008805  4.000000     4.0    8    1\n",
       "2    AS009013  2.000000     2.0    2    2\n",
       "3    AS009373  5.083333     5.0    7    3\n",
       "4    AS015233  7.545455     7.0   11    4"
      ],
      "text/html": "<div>\n<style scoped>\n    .dataframe tbody tr th:only-of-type {\n        vertical-align: middle;\n    }\n\n    .dataframe tbody tr th {\n        vertical-align: top;\n    }\n\n    .dataframe thead th {\n        text-align: right;\n    }\n</style>\n<table border=\"1\" class=\"dataframe\">\n  <thead>\n    <tr style=\"text-align: right;\">\n      <th></th>\n      <th>customer_id</th>\n      <th>mean</th>\n      <th>median</th>\n      <th>max</th>\n      <th>min</th>\n    </tr>\n  </thead>\n  <tbody>\n    <tr>\n      <th>0</th>\n      <td>AS002855</td>\n      <td>4.500000</td>\n      <td>5.0</td>\n      <td>7</td>\n      <td>2</td>\n    </tr>\n    <tr>\n      <th>1</th>\n      <td>AS008805</td>\n      <td>4.000000</td>\n      <td>4.0</td>\n      <td>8</td>\n      <td>1</td>\n    </tr>\n    <tr>\n      <th>2</th>\n      <td>AS009013</td>\n      <td>2.000000</td>\n      <td>2.0</td>\n      <td>2</td>\n      <td>2</td>\n    </tr>\n    <tr>\n      <th>3</th>\n      <td>AS009373</td>\n      <td>5.083333</td>\n      <td>5.0</td>\n      <td>7</td>\n      <td>3</td>\n    </tr>\n    <tr>\n      <th>4</th>\n      <td>AS015233</td>\n      <td>7.545455</td>\n      <td>7.0</td>\n      <td>11</td>\n      <td>4</td>\n    </tr>\n  </tbody>\n</table>\n</div>"
     },
     "metadata": {},
     "execution_count": 107
    }
   ],
   "source": [
    "#顧客ごとの月内利用回数の集計\n",
    "#groupbyで平均値、中央値、最大値、最小値を集計\n",
    "uselog_customer = uselog_months.groupby('customer_id').agg(['mean','median','max','min'])['count']\n",
    "#customer_id列をカラムに変更しindexを振り直し\n",
    "uselog_customer = uselog_customer.reset_index(drop=False)\n",
    "uselog_customer.head()"
   ]
  },
  {
   "cell_type": "markdown",
   "metadata": {},
   "source": [
    "着き### ノック26：利用履歴データから定期利用フラグを作成しよう"
   ]
  },
  {
   "cell_type": "code",
   "execution_count": 108,
   "metadata": {},
   "outputs": [
    {
     "output_type": "execute_result",
     "data": {
      "text/plain": [
       "  customer_id      年月  weekday  count\n",
       "0    AS002855  201804        5      4\n",
       "1    AS002855  201805        2      1\n",
       "2    AS002855  201805        5      4\n",
       "3    AS002855  201806        5      5\n",
       "4    AS002855  201807        1      1"
      ],
      "text/html": "<div>\n<style scoped>\n    .dataframe tbody tr th:only-of-type {\n        vertical-align: middle;\n    }\n\n    .dataframe tbody tr th {\n        vertical-align: top;\n    }\n\n    .dataframe thead th {\n        text-align: right;\n    }\n</style>\n<table border=\"1\" class=\"dataframe\">\n  <thead>\n    <tr style=\"text-align: right;\">\n      <th></th>\n      <th>customer_id</th>\n      <th>年月</th>\n      <th>weekday</th>\n      <th>count</th>\n    </tr>\n  </thead>\n  <tbody>\n    <tr>\n      <th>0</th>\n      <td>AS002855</td>\n      <td>201804</td>\n      <td>5</td>\n      <td>4</td>\n    </tr>\n    <tr>\n      <th>1</th>\n      <td>AS002855</td>\n      <td>201805</td>\n      <td>2</td>\n      <td>1</td>\n    </tr>\n    <tr>\n      <th>2</th>\n      <td>AS002855</td>\n      <td>201805</td>\n      <td>5</td>\n      <td>4</td>\n    </tr>\n    <tr>\n      <th>3</th>\n      <td>AS002855</td>\n      <td>201806</td>\n      <td>5</td>\n      <td>5</td>\n    </tr>\n    <tr>\n      <th>4</th>\n      <td>AS002855</td>\n      <td>201807</td>\n      <td>1</td>\n      <td>1</td>\n    </tr>\n  </tbody>\n</table>\n</div>"
     },
     "metadata": {},
     "execution_count": 108
    }
   ],
   "source": [
    "#顧客ごとの月、曜日別集計結果\n",
    "#曜日を０から6に割り当て\n",
    "uselog['weekday'] = uselog['usedate'].dt.weekday\n",
    "#'customer_id','年月','weekday','log_id'をcount\n",
    "uselog_weekday = uselog.groupby(['customer_id','年月','weekday'],as_index=False).count()[['customer_id','年月','weekday','log_id']]\n",
    "uselog_weekday.rename(columns={'log_id':'count'},inplace=True)\n",
    "uselog_weekday.head()\n",
    "#AS002855はweekday5=土曜日に4回使用している"
   ]
  },
  {
   "cell_type": "code",
   "execution_count": 109,
   "metadata": {},
   "outputs": [
    {
     "output_type": "execute_result",
     "data": {
      "text/plain": [
       "  customer_id  count  routine_flg\n",
       "0    AS002855      5            1\n",
       "1    AS008805      4            1\n",
       "2    AS009013      2            0\n",
       "3    AS009373      5            1\n",
       "4    AS015233      5            1"
      ],
      "text/html": "<div>\n<style scoped>\n    .dataframe tbody tr th:only-of-type {\n        vertical-align: middle;\n    }\n\n    .dataframe tbody tr th {\n        vertical-align: top;\n    }\n\n    .dataframe thead th {\n        text-align: right;\n    }\n</style>\n<table border=\"1\" class=\"dataframe\">\n  <thead>\n    <tr style=\"text-align: right;\">\n      <th></th>\n      <th>customer_id</th>\n      <th>count</th>\n      <th>routine_flg</th>\n    </tr>\n  </thead>\n  <tbody>\n    <tr>\n      <th>0</th>\n      <td>AS002855</td>\n      <td>5</td>\n      <td>1</td>\n    </tr>\n    <tr>\n      <th>1</th>\n      <td>AS008805</td>\n      <td>4</td>\n      <td>1</td>\n    </tr>\n    <tr>\n      <th>2</th>\n      <td>AS009013</td>\n      <td>2</td>\n      <td>0</td>\n    </tr>\n    <tr>\n      <th>3</th>\n      <td>AS009373</td>\n      <td>5</td>\n      <td>1</td>\n    </tr>\n    <tr>\n      <th>4</th>\n      <td>AS015233</td>\n      <td>5</td>\n      <td>1</td>\n    </tr>\n  </tbody>\n</table>\n</div>"
     },
     "metadata": {},
     "execution_count": 109
    }
   ],
   "source": [
    "#顧客毎の最大値\n",
    "uselog_weekday = uselog_weekday.groupby('customer_id',as_index=False).max()[['customer_id','count']]\n",
    "#毎週特定の曜日に来ているかを判別 4より大きい場合は1　それ以外は０にする\n",
    "uselog_weekday['routine_flg'] = 0\n",
    "uselog_weekday['routine_flg'] = uselog_weekday['routine_flg'].where(uselog_weekday['count']<4,1)\n",
    "uselog_weekday.head()"
   ]
  },
  {
   "cell_type": "markdown",
   "metadata": {},
   "source": [
    "### ノック27：顧客データと利用履歴データを結合しよう"
   ]
  },
  {
   "cell_type": "code",
   "execution_count": 110,
   "metadata": {},
   "outputs": [
    {
     "output_type": "execute_result",
     "data": {
      "text/plain": [
       "  customer_id      mean  median  max  min\n",
       "0    AS002855  4.500000     5.0    7    2\n",
       "1    AS008805  4.000000     4.0    8    1\n",
       "2    AS009013  2.000000     2.0    2    2\n",
       "3    AS009373  5.083333     5.0    7    3\n",
       "4    AS015233  7.545455     7.0   11    4"
      ],
      "text/html": "<div>\n<style scoped>\n    .dataframe tbody tr th:only-of-type {\n        vertical-align: middle;\n    }\n\n    .dataframe tbody tr th {\n        vertical-align: top;\n    }\n\n    .dataframe thead th {\n        text-align: right;\n    }\n</style>\n<table border=\"1\" class=\"dataframe\">\n  <thead>\n    <tr style=\"text-align: right;\">\n      <th></th>\n      <th>customer_id</th>\n      <th>mean</th>\n      <th>median</th>\n      <th>max</th>\n      <th>min</th>\n    </tr>\n  </thead>\n  <tbody>\n    <tr>\n      <th>0</th>\n      <td>AS002855</td>\n      <td>4.500000</td>\n      <td>5.0</td>\n      <td>7</td>\n      <td>2</td>\n    </tr>\n    <tr>\n      <th>1</th>\n      <td>AS008805</td>\n      <td>4.000000</td>\n      <td>4.0</td>\n      <td>8</td>\n      <td>1</td>\n    </tr>\n    <tr>\n      <th>2</th>\n      <td>AS009013</td>\n      <td>2.000000</td>\n      <td>2.0</td>\n      <td>2</td>\n      <td>2</td>\n    </tr>\n    <tr>\n      <th>3</th>\n      <td>AS009373</td>\n      <td>5.083333</td>\n      <td>5.0</td>\n      <td>7</td>\n      <td>3</td>\n    </tr>\n    <tr>\n      <th>4</th>\n      <td>AS015233</td>\n      <td>7.545455</td>\n      <td>7.0</td>\n      <td>11</td>\n      <td>4</td>\n    </tr>\n  </tbody>\n</table>\n</div>"
     },
     "metadata": {},
     "execution_count": 110
    }
   ],
   "source": [
    "uselog_customer.head()"
   ]
  },
  {
   "cell_type": "code",
   "execution_count": 111,
   "metadata": {},
   "outputs": [
    {
     "output_type": "execute_result",
     "data": {
      "text/plain": [
       "  customer_id  count  routine_flg\n",
       "0    AS002855      5            1\n",
       "1    AS008805      4            1\n",
       "2    AS009013      2            0\n",
       "3    AS009373      5            1\n",
       "4    AS015233      5            1"
      ],
      "text/html": "<div>\n<style scoped>\n    .dataframe tbody tr th:only-of-type {\n        vertical-align: middle;\n    }\n\n    .dataframe tbody tr th {\n        vertical-align: top;\n    }\n\n    .dataframe thead th {\n        text-align: right;\n    }\n</style>\n<table border=\"1\" class=\"dataframe\">\n  <thead>\n    <tr style=\"text-align: right;\">\n      <th></th>\n      <th>customer_id</th>\n      <th>count</th>\n      <th>routine_flg</th>\n    </tr>\n  </thead>\n  <tbody>\n    <tr>\n      <th>0</th>\n      <td>AS002855</td>\n      <td>5</td>\n      <td>1</td>\n    </tr>\n    <tr>\n      <th>1</th>\n      <td>AS008805</td>\n      <td>4</td>\n      <td>1</td>\n    </tr>\n    <tr>\n      <th>2</th>\n      <td>AS009013</td>\n      <td>2</td>\n      <td>0</td>\n    </tr>\n    <tr>\n      <th>3</th>\n      <td>AS009373</td>\n      <td>5</td>\n      <td>1</td>\n    </tr>\n    <tr>\n      <th>4</th>\n      <td>AS015233</td>\n      <td>5</td>\n      <td>1</td>\n    </tr>\n  </tbody>\n</table>\n</div>"
     },
     "metadata": {},
     "execution_count": 111
    }
   ],
   "source": [
    "uselog_weekday.head()"
   ]
  },
  {
   "cell_type": "code",
   "execution_count": 112,
   "metadata": {},
   "outputs": [
    {
     "output_type": "execute_result",
     "data": {
      "text/plain": [
       "  customer_id   name class gender start_date end_date campaign_id  is_deleted  \\\n",
       "0    OA832399   XXXX   C01      F 2015-05-01      NaT         CA1           0   \n",
       "1    PL270116  XXXXX   C01      M 2015-05-01      NaT         CA1           0   \n",
       "2    OA974876  XXXXX   C01      M 2015-05-01      NaT         CA1           0   \n",
       "3    HD024127  XXXXX   C01      F 2015-05-01      NaT         CA1           0   \n",
       "4    HD661448  XXXXX   C03      F 2015-05-01      NaT         CA1           0   \n",
       "\n",
       "  class_name  price campaign_name  \n",
       "0     オールタイム  10500            通常  \n",
       "1     オールタイム  10500            通常  \n",
       "2     オールタイム  10500            通常  \n",
       "3     オールタイム  10500            通常  \n",
       "4        ナイト   6000            通常  "
      ],
      "text/html": "<div>\n<style scoped>\n    .dataframe tbody tr th:only-of-type {\n        vertical-align: middle;\n    }\n\n    .dataframe tbody tr th {\n        vertical-align: top;\n    }\n\n    .dataframe thead th {\n        text-align: right;\n    }\n</style>\n<table border=\"1\" class=\"dataframe\">\n  <thead>\n    <tr style=\"text-align: right;\">\n      <th></th>\n      <th>customer_id</th>\n      <th>name</th>\n      <th>class</th>\n      <th>gender</th>\n      <th>start_date</th>\n      <th>end_date</th>\n      <th>campaign_id</th>\n      <th>is_deleted</th>\n      <th>class_name</th>\n      <th>price</th>\n      <th>campaign_name</th>\n    </tr>\n  </thead>\n  <tbody>\n    <tr>\n      <th>0</th>\n      <td>OA832399</td>\n      <td>XXXX</td>\n      <td>C01</td>\n      <td>F</td>\n      <td>2015-05-01</td>\n      <td>NaT</td>\n      <td>CA1</td>\n      <td>0</td>\n      <td>オールタイム</td>\n      <td>10500</td>\n      <td>通常</td>\n    </tr>\n    <tr>\n      <th>1</th>\n      <td>PL270116</td>\n      <td>XXXXX</td>\n      <td>C01</td>\n      <td>M</td>\n      <td>2015-05-01</td>\n      <td>NaT</td>\n      <td>CA1</td>\n      <td>0</td>\n      <td>オールタイム</td>\n      <td>10500</td>\n      <td>通常</td>\n    </tr>\n    <tr>\n      <th>2</th>\n      <td>OA974876</td>\n      <td>XXXXX</td>\n      <td>C01</td>\n      <td>M</td>\n      <td>2015-05-01</td>\n      <td>NaT</td>\n      <td>CA1</td>\n      <td>0</td>\n      <td>オールタイム</td>\n      <td>10500</td>\n      <td>通常</td>\n    </tr>\n    <tr>\n      <th>3</th>\n      <td>HD024127</td>\n      <td>XXXXX</td>\n      <td>C01</td>\n      <td>F</td>\n      <td>2015-05-01</td>\n      <td>NaT</td>\n      <td>CA1</td>\n      <td>0</td>\n      <td>オールタイム</td>\n      <td>10500</td>\n      <td>通常</td>\n    </tr>\n    <tr>\n      <th>4</th>\n      <td>HD661448</td>\n      <td>XXXXX</td>\n      <td>C03</td>\n      <td>F</td>\n      <td>2015-05-01</td>\n      <td>NaT</td>\n      <td>CA1</td>\n      <td>0</td>\n      <td>ナイト</td>\n      <td>6000</td>\n      <td>通常</td>\n    </tr>\n  </tbody>\n</table>\n</div>"
     },
     "metadata": {},
     "execution_count": 112
    }
   ],
   "source": [
    "customer_join.head()"
   ]
  },
  {
   "cell_type": "code",
   "execution_count": 113,
   "metadata": {},
   "outputs": [
    {
     "output_type": "execute_result",
     "data": {
      "text/plain": [
       "  customer_id   name class gender start_date end_date campaign_id  is_deleted  \\\n",
       "0    OA832399   XXXX   C01      F 2015-05-01      NaT         CA1           0   \n",
       "1    PL270116  XXXXX   C01      M 2015-05-01      NaT         CA1           0   \n",
       "2    OA974876  XXXXX   C01      M 2015-05-01      NaT         CA1           0   \n",
       "3    HD024127  XXXXX   C01      F 2015-05-01      NaT         CA1           0   \n",
       "4    HD661448  XXXXX   C03      F 2015-05-01      NaT         CA1           0   \n",
       "\n",
       "  class_name  price campaign_name      mean  median  max  min  routine_flg  \n",
       "0     オールタイム  10500            通常  4.833333     5.0    8    2            1  \n",
       "1     オールタイム  10500            通常  5.083333     5.0    7    3            1  \n",
       "2     オールタイム  10500            通常  4.583333     5.0    6    3            1  \n",
       "3     オールタイム  10500            通常  4.833333     4.5    7    2            1  \n",
       "4        ナイト   6000            通常  3.916667     4.0    6    1            1  "
      ],
      "text/html": "<div>\n<style scoped>\n    .dataframe tbody tr th:only-of-type {\n        vertical-align: middle;\n    }\n\n    .dataframe tbody tr th {\n        vertical-align: top;\n    }\n\n    .dataframe thead th {\n        text-align: right;\n    }\n</style>\n<table border=\"1\" class=\"dataframe\">\n  <thead>\n    <tr style=\"text-align: right;\">\n      <th></th>\n      <th>customer_id</th>\n      <th>name</th>\n      <th>class</th>\n      <th>gender</th>\n      <th>start_date</th>\n      <th>end_date</th>\n      <th>campaign_id</th>\n      <th>is_deleted</th>\n      <th>class_name</th>\n      <th>price</th>\n      <th>campaign_name</th>\n      <th>mean</th>\n      <th>median</th>\n      <th>max</th>\n      <th>min</th>\n      <th>routine_flg</th>\n    </tr>\n  </thead>\n  <tbody>\n    <tr>\n      <th>0</th>\n      <td>OA832399</td>\n      <td>XXXX</td>\n      <td>C01</td>\n      <td>F</td>\n      <td>2015-05-01</td>\n      <td>NaT</td>\n      <td>CA1</td>\n      <td>0</td>\n      <td>オールタイム</td>\n      <td>10500</td>\n      <td>通常</td>\n      <td>4.833333</td>\n      <td>5.0</td>\n      <td>8</td>\n      <td>2</td>\n      <td>1</td>\n    </tr>\n    <tr>\n      <th>1</th>\n      <td>PL270116</td>\n      <td>XXXXX</td>\n      <td>C01</td>\n      <td>M</td>\n      <td>2015-05-01</td>\n      <td>NaT</td>\n      <td>CA1</td>\n      <td>0</td>\n      <td>オールタイム</td>\n      <td>10500</td>\n      <td>通常</td>\n      <td>5.083333</td>\n      <td>5.0</td>\n      <td>7</td>\n      <td>3</td>\n      <td>1</td>\n    </tr>\n    <tr>\n      <th>2</th>\n      <td>OA974876</td>\n      <td>XXXXX</td>\n      <td>C01</td>\n      <td>M</td>\n      <td>2015-05-01</td>\n      <td>NaT</td>\n      <td>CA1</td>\n      <td>0</td>\n      <td>オールタイム</td>\n      <td>10500</td>\n      <td>通常</td>\n      <td>4.583333</td>\n      <td>5.0</td>\n      <td>6</td>\n      <td>3</td>\n      <td>1</td>\n    </tr>\n    <tr>\n      <th>3</th>\n      <td>HD024127</td>\n      <td>XXXXX</td>\n      <td>C01</td>\n      <td>F</td>\n      <td>2015-05-01</td>\n      <td>NaT</td>\n      <td>CA1</td>\n      <td>0</td>\n      <td>オールタイム</td>\n      <td>10500</td>\n      <td>通常</td>\n      <td>4.833333</td>\n      <td>4.5</td>\n      <td>7</td>\n      <td>2</td>\n      <td>1</td>\n    </tr>\n    <tr>\n      <th>4</th>\n      <td>HD661448</td>\n      <td>XXXXX</td>\n      <td>C03</td>\n      <td>F</td>\n      <td>2015-05-01</td>\n      <td>NaT</td>\n      <td>CA1</td>\n      <td>0</td>\n      <td>ナイト</td>\n      <td>6000</td>\n      <td>通常</td>\n      <td>3.916667</td>\n      <td>4.0</td>\n      <td>6</td>\n      <td>1</td>\n      <td>1</td>\n    </tr>\n  </tbody>\n</table>\n</div>"
     },
     "metadata": {},
     "execution_count": 113
    }
   ],
   "source": [
    "customer_join = pd.merge(customer_join,uselog_customer,on='customer_id',how='left')\n",
    "#routine_flgだけ　ジョインキーはここもcustomer_id\n",
    "customer_join = pd.merge(customer_join,uselog_weekday[['customer_id','routine_flg']],on='customer_id',how='left')\n",
    "customer_join.head()"
   ]
  },
  {
   "cell_type": "code",
   "execution_count": 114,
   "metadata": {},
   "outputs": [
    {
     "output_type": "execute_result",
     "data": {
      "text/plain": [
       "customer_id         0\n",
       "name                0\n",
       "class               0\n",
       "gender              0\n",
       "start_date          0\n",
       "end_date         2842\n",
       "campaign_id         0\n",
       "is_deleted          0\n",
       "class_name          0\n",
       "price               0\n",
       "campaign_name       0\n",
       "mean                0\n",
       "median              0\n",
       "max                 0\n",
       "min                 0\n",
       "routine_flg         0\n",
       "dtype: int64"
      ]
     },
     "metadata": {},
     "execution_count": 114
    }
   ],
   "source": [
    "customer_join.isnull().sum()"
   ]
  },
  {
   "cell_type": "markdown",
   "metadata": {},
   "source": [
    "### ノック28：会員期間を計算しよう"
   ]
  },
  {
   "cell_type": "code",
   "execution_count": 115,
   "metadata": {},
   "outputs": [
    {
     "output_type": "execute_result",
     "data": {
      "text/plain": [
       "  customer_id   name class gender start_date end_date campaign_id  is_deleted  \\\n",
       "0    OA832399   XXXX   C01      F 2015-05-01      NaT         CA1           0   \n",
       "1    PL270116  XXXXX   C01      M 2015-05-01      NaT         CA1           0   \n",
       "2    OA974876  XXXXX   C01      M 2015-05-01      NaT         CA1           0   \n",
       "3    HD024127  XXXXX   C01      F 2015-05-01      NaT         CA1           0   \n",
       "4    HD661448  XXXXX   C03      F 2015-05-01      NaT         CA1           0   \n",
       "\n",
       "  class_name  price campaign_name      mean  median  max  min  routine_flg  \\\n",
       "0     オールタイム  10500            通常  4.833333     5.0    8    2            1   \n",
       "1     オールタイム  10500            通常  5.083333     5.0    7    3            1   \n",
       "2     オールタイム  10500            通常  4.583333     5.0    6    3            1   \n",
       "3     オールタイム  10500            通常  4.833333     4.5    7    2            1   \n",
       "4        ナイト   6000            通常  3.916667     4.0    6    1            1   \n",
       "\n",
       "   calc_date  membership_period  \n",
       "0 2019-04-30                 47  \n",
       "1 2019-04-30                 47  \n",
       "2 2019-04-30                 47  \n",
       "3 2019-04-30                 47  \n",
       "4 2019-04-30                 47  "
      ],
      "text/html": "<div>\n<style scoped>\n    .dataframe tbody tr th:only-of-type {\n        vertical-align: middle;\n    }\n\n    .dataframe tbody tr th {\n        vertical-align: top;\n    }\n\n    .dataframe thead th {\n        text-align: right;\n    }\n</style>\n<table border=\"1\" class=\"dataframe\">\n  <thead>\n    <tr style=\"text-align: right;\">\n      <th></th>\n      <th>customer_id</th>\n      <th>name</th>\n      <th>class</th>\n      <th>gender</th>\n      <th>start_date</th>\n      <th>end_date</th>\n      <th>campaign_id</th>\n      <th>is_deleted</th>\n      <th>class_name</th>\n      <th>price</th>\n      <th>campaign_name</th>\n      <th>mean</th>\n      <th>median</th>\n      <th>max</th>\n      <th>min</th>\n      <th>routine_flg</th>\n      <th>calc_date</th>\n      <th>membership_period</th>\n    </tr>\n  </thead>\n  <tbody>\n    <tr>\n      <th>0</th>\n      <td>OA832399</td>\n      <td>XXXX</td>\n      <td>C01</td>\n      <td>F</td>\n      <td>2015-05-01</td>\n      <td>NaT</td>\n      <td>CA1</td>\n      <td>0</td>\n      <td>オールタイム</td>\n      <td>10500</td>\n      <td>通常</td>\n      <td>4.833333</td>\n      <td>5.0</td>\n      <td>8</td>\n      <td>2</td>\n      <td>1</td>\n      <td>2019-04-30</td>\n      <td>47</td>\n    </tr>\n    <tr>\n      <th>1</th>\n      <td>PL270116</td>\n      <td>XXXXX</td>\n      <td>C01</td>\n      <td>M</td>\n      <td>2015-05-01</td>\n      <td>NaT</td>\n      <td>CA1</td>\n      <td>0</td>\n      <td>オールタイム</td>\n      <td>10500</td>\n      <td>通常</td>\n      <td>5.083333</td>\n      <td>5.0</td>\n      <td>7</td>\n      <td>3</td>\n      <td>1</td>\n      <td>2019-04-30</td>\n      <td>47</td>\n    </tr>\n    <tr>\n      <th>2</th>\n      <td>OA974876</td>\n      <td>XXXXX</td>\n      <td>C01</td>\n      <td>M</td>\n      <td>2015-05-01</td>\n      <td>NaT</td>\n      <td>CA1</td>\n      <td>0</td>\n      <td>オールタイム</td>\n      <td>10500</td>\n      <td>通常</td>\n      <td>4.583333</td>\n      <td>5.0</td>\n      <td>6</td>\n      <td>3</td>\n      <td>1</td>\n      <td>2019-04-30</td>\n      <td>47</td>\n    </tr>\n    <tr>\n      <th>3</th>\n      <td>HD024127</td>\n      <td>XXXXX</td>\n      <td>C01</td>\n      <td>F</td>\n      <td>2015-05-01</td>\n      <td>NaT</td>\n      <td>CA1</td>\n      <td>0</td>\n      <td>オールタイム</td>\n      <td>10500</td>\n      <td>通常</td>\n      <td>4.833333</td>\n      <td>4.5</td>\n      <td>7</td>\n      <td>2</td>\n      <td>1</td>\n      <td>2019-04-30</td>\n      <td>47</td>\n    </tr>\n    <tr>\n      <th>4</th>\n      <td>HD661448</td>\n      <td>XXXXX</td>\n      <td>C03</td>\n      <td>F</td>\n      <td>2015-05-01</td>\n      <td>NaT</td>\n      <td>CA1</td>\n      <td>0</td>\n      <td>ナイト</td>\n      <td>6000</td>\n      <td>通常</td>\n      <td>3.916667</td>\n      <td>4.0</td>\n      <td>6</td>\n      <td>1</td>\n      <td>1</td>\n      <td>2019-04-30</td>\n      <td>47</td>\n    </tr>\n  </tbody>\n</table>\n</div>"
     },
     "metadata": {},
     "execution_count": 115
    }
   ],
   "source": [
    "from dateutil.relativedelta import relativedelta\n",
    "customer_join['calc_date'] = customer_join['end_date']\n",
    "customer_join['calc_date'] = customer_join['calc_date'].fillna(pd.to_datetime('20190430'))\n",
    "customer_join['membership_period'] = 0\n",
    "#start_dateと20190430までの期間を月で計算\n",
    "for i in range(len(customer_join)):\n",
    "    delta = relativedelta(customer_join['calc_date'].iloc[i],customer_join['start_date'].iloc[i])\n",
    "    customer_join['membership_period'].iloc[i] = delta.years*12 + delta.months\n",
    "customer_join.head()"
   ]
  },
  {
   "cell_type": "markdown",
   "metadata": {},
   "source": [
    "### ノック29：顧客行動の各種統計量を把握しよう"
   ]
  },
  {
   "cell_type": "code",
   "execution_count": 116,
   "metadata": {},
   "outputs": [
    {
     "output_type": "execute_result",
     "data": {
      "text/plain": [
       "              mean       median          max          min\n",
       "count  4192.000000  4192.000000  4192.000000  4192.000000\n",
       "mean      5.333127     5.250596     7.823950     3.041269\n",
       "std       1.777533     1.874874     2.168959     1.951565\n",
       "min       1.000000     1.000000     1.000000     1.000000\n",
       "25%       4.250000     4.000000     7.000000     2.000000\n",
       "50%       5.000000     5.000000     8.000000     3.000000\n",
       "75%       6.416667     6.500000     9.000000     4.000000\n",
       "max      12.000000    12.000000    14.000000    12.000000"
      ],
      "text/html": "<div>\n<style scoped>\n    .dataframe tbody tr th:only-of-type {\n        vertical-align: middle;\n    }\n\n    .dataframe tbody tr th {\n        vertical-align: top;\n    }\n\n    .dataframe thead th {\n        text-align: right;\n    }\n</style>\n<table border=\"1\" class=\"dataframe\">\n  <thead>\n    <tr style=\"text-align: right;\">\n      <th></th>\n      <th>mean</th>\n      <th>median</th>\n      <th>max</th>\n      <th>min</th>\n    </tr>\n  </thead>\n  <tbody>\n    <tr>\n      <th>count</th>\n      <td>4192.000000</td>\n      <td>4192.000000</td>\n      <td>4192.000000</td>\n      <td>4192.000000</td>\n    </tr>\n    <tr>\n      <th>mean</th>\n      <td>5.333127</td>\n      <td>5.250596</td>\n      <td>7.823950</td>\n      <td>3.041269</td>\n    </tr>\n    <tr>\n      <th>std</th>\n      <td>1.777533</td>\n      <td>1.874874</td>\n      <td>2.168959</td>\n      <td>1.951565</td>\n    </tr>\n    <tr>\n      <th>min</th>\n      <td>1.000000</td>\n      <td>1.000000</td>\n      <td>1.000000</td>\n      <td>1.000000</td>\n    </tr>\n    <tr>\n      <th>25%</th>\n      <td>4.250000</td>\n      <td>4.000000</td>\n      <td>7.000000</td>\n      <td>2.000000</td>\n    </tr>\n    <tr>\n      <th>50%</th>\n      <td>5.000000</td>\n      <td>5.000000</td>\n      <td>8.000000</td>\n      <td>3.000000</td>\n    </tr>\n    <tr>\n      <th>75%</th>\n      <td>6.416667</td>\n      <td>6.500000</td>\n      <td>9.000000</td>\n      <td>4.000000</td>\n    </tr>\n    <tr>\n      <th>max</th>\n      <td>12.000000</td>\n      <td>12.000000</td>\n      <td>14.000000</td>\n      <td>12.000000</td>\n    </tr>\n  </tbody>\n</table>\n</div>"
     },
     "metadata": {},
     "execution_count": 116
    }
   ],
   "source": [
    "customer_join[['mean','median','max','min']].describe()"
   ]
  },
  {
   "cell_type": "code",
   "execution_count": 117,
   "metadata": {},
   "outputs": [
    {
     "output_type": "execute_result",
     "data": {
      "text/plain": [
       "routine_flg\n",
       "0     779\n",
       "1    3413\n",
       "Name: customer_id, dtype: int64"
      ]
     },
     "metadata": {},
     "execution_count": 117
    }
   ],
   "source": [
    "customer_join.groupby('routine_flg').count()['customer_id']"
   ]
  },
  {
   "cell_type": "code",
   "execution_count": 118,
   "metadata": {},
   "outputs": [
    {
     "output_type": "execute_result",
     "data": {
      "text/plain": [
       "(array([857., 774., 395., 368., 311., 331., 323., 237., 288., 308.]),\n",
       " array([ 1. ,  5.6, 10.2, 14.8, 19.4, 24. , 28.6, 33.2, 37.8, 42.4, 47. ]),\n",
       " <BarContainer object of 10 artists>)"
      ]
     },
     "metadata": {},
     "execution_count": 118
    },
    {
     "output_type": "display_data",
     "data": {
      "text/plain": "<Figure size 432x288 with 1 Axes>",
      "image/svg+xml": "<?xml version=\"1.0\" encoding=\"utf-8\" standalone=\"no\"?>\n<!DOCTYPE svg PUBLIC \"-//W3C//DTD SVG 1.1//EN\"\n  \"http://www.w3.org/Graphics/SVG/1.1/DTD/svg11.dtd\">\n<!-- Created with matplotlib (https://matplotlib.org/) -->\n<svg height=\"248.518125pt\" version=\"1.1\" viewBox=\"0 0 375.2875 248.518125\" width=\"375.2875pt\" xmlns=\"http://www.w3.org/2000/svg\" xmlns:xlink=\"http://www.w3.org/1999/xlink\">\n <metadata>\n  <rdf:RDF xmlns:cc=\"http://creativecommons.org/ns#\" xmlns:dc=\"http://purl.org/dc/elements/1.1/\" xmlns:rdf=\"http://www.w3.org/1999/02/22-rdf-syntax-ns#\">\n   <cc:Work>\n    <dc:type rdf:resource=\"http://purl.org/dc/dcmitype/StillImage\"/>\n    <dc:date>2021-02-07T07:21:23.317490</dc:date>\n    <dc:format>image/svg+xml</dc:format>\n    <dc:creator>\n     <cc:Agent>\n      <dc:title>Matplotlib v3.3.2, https://matplotlib.org/</dc:title>\n     </cc:Agent>\n    </dc:creator>\n   </cc:Work>\n  </rdf:RDF>\n </metadata>\n <defs>\n  <style type=\"text/css\">*{stroke-linecap:butt;stroke-linejoin:round;}</style>\n </defs>\n <g id=\"figure_1\">\n  <g id=\"patch_1\">\n   <path d=\"M 0 248.518125 \nL 375.2875 248.518125 \nL 375.2875 0 \nL 0 0 \nz\n\" style=\"fill:none;\"/>\n  </g>\n  <g id=\"axes_1\">\n   <g id=\"patch_2\">\n    <path d=\"M 33.2875 224.64 \nL 368.0875 224.64 \nL 368.0875 7.2 \nL 33.2875 7.2 \nz\n\" style=\"fill:#ffffff;\"/>\n   </g>\n   <g id=\"patch_3\">\n    <path clip-path=\"url(#p9aa89e5c9d)\" d=\"M 48.505682 224.64 \nL 78.942045 224.64 \nL 78.942045 17.554286 \nL 48.505682 17.554286 \nz\n\" style=\"fill:#1f77b4;\"/>\n   </g>\n   <g id=\"patch_4\">\n    <path clip-path=\"url(#p9aa89e5c9d)\" d=\"M 78.942045 224.64 \nL 109.378409 224.64 \nL 109.378409 37.610428 \nL 78.942045 37.610428 \nz\n\" style=\"fill:#1f77b4;\"/>\n   </g>\n   <g id=\"patch_5\">\n    <path clip-path=\"url(#p9aa89e5c9d)\" d=\"M 109.378409 224.64 \nL 139.814773 224.64 \nL 139.814773 129.192092 \nL 109.378409 129.192092 \nz\n\" style=\"fill:#1f77b4;\"/>\n   </g>\n   <g id=\"patch_6\">\n    <path clip-path=\"url(#p9aa89e5c9d)\" d=\"M 139.814773 224.64 \nL 170.251136 224.64 \nL 170.251136 135.716379 \nL 139.814773 135.716379 \nz\n\" style=\"fill:#1f77b4;\"/>\n   </g>\n   <g id=\"patch_7\">\n    <path clip-path=\"url(#p9aa89e5c9d)\" d=\"M 170.251136 224.64 \nL 200.6875 224.64 \nL 200.6875 149.489875 \nL 170.251136 149.489875 \nz\n\" style=\"fill:#1f77b4;\"/>\n   </g>\n   <g id=\"patch_8\">\n    <path clip-path=\"url(#p9aa89e5c9d)\" d=\"M 200.6875 224.64 \nL 231.123864 224.64 \nL 231.123864 144.65707 \nL 200.6875 144.65707 \nz\n\" style=\"fill:#1f77b4;\"/>\n   </g>\n   <g id=\"patch_9\">\n    <path clip-path=\"url(#p9aa89e5c9d)\" d=\"M 231.123864 224.64 \nL 261.560227 224.64 \nL 261.560227 146.590192 \nL 231.123864 146.590192 \nz\n\" style=\"fill:#1f77b4;\"/>\n   </g>\n   <g id=\"patch_10\">\n    <path clip-path=\"url(#p9aa89e5c9d)\" d=\"M 261.560227 224.64 \nL 291.996591 224.64 \nL 291.996591 167.371255 \nL 261.560227 167.371255 \nz\n\" style=\"fill:#1f77b4;\"/>\n   </g>\n   <g id=\"patch_11\">\n    <path clip-path=\"url(#p9aa89e5c9d)\" d=\"M 291.996591 224.64 \nL 322.432955 224.64 \nL 322.432955 155.047601 \nL 291.996591 155.047601 \nz\n\" style=\"fill:#1f77b4;\"/>\n   </g>\n   <g id=\"patch_12\">\n    <path clip-path=\"url(#p9aa89e5c9d)\" d=\"M 322.432955 224.64 \nL 352.869318 224.64 \nL 352.869318 150.214796 \nL 322.432955 150.214796 \nz\n\" style=\"fill:#1f77b4;\"/>\n   </g>\n   <g id=\"matplotlib.axis_1\">\n    <g id=\"xtick_1\">\n     <g id=\"line2d_1\">\n      <defs>\n       <path d=\"M 0 0 \nL 0 3.5 \n\" id=\"mda47bf032d\" style=\"stroke:#000000;stroke-width:0.8;\"/>\n      </defs>\n      <g>\n       <use style=\"stroke:#000000;stroke-width:0.8;\" x=\"41.889081\" xlink:href=\"#mda47bf032d\" y=\"224.64\"/>\n      </g>\n     </g>\n     <g id=\"text_1\">\n      <!-- 0 -->\n      <g transform=\"translate(38.707831 239.238437)scale(0.1 -0.1)\">\n       <defs>\n        <path d=\"M 31.78125 66.40625 \nQ 24.171875 66.40625 20.328125 58.90625 \nQ 16.5 51.421875 16.5 36.375 \nQ 16.5 21.390625 20.328125 13.890625 \nQ 24.171875 6.390625 31.78125 6.390625 \nQ 39.453125 6.390625 43.28125 13.890625 \nQ 47.125 21.390625 47.125 36.375 \nQ 47.125 51.421875 43.28125 58.90625 \nQ 39.453125 66.40625 31.78125 66.40625 \nz\nM 31.78125 74.21875 \nQ 44.046875 74.21875 50.515625 64.515625 \nQ 56.984375 54.828125 56.984375 36.375 \nQ 56.984375 17.96875 50.515625 8.265625 \nQ 44.046875 -1.421875 31.78125 -1.421875 \nQ 19.53125 -1.421875 13.0625 8.265625 \nQ 6.59375 17.96875 6.59375 36.375 \nQ 6.59375 54.828125 13.0625 64.515625 \nQ 19.53125 74.21875 31.78125 74.21875 \nz\n\" id=\"DejaVuSans-48\"/>\n       </defs>\n       <use xlink:href=\"#DejaVuSans-48\"/>\n      </g>\n     </g>\n    </g>\n    <g id=\"xtick_2\">\n     <g id=\"line2d_2\">\n      <g>\n       <use style=\"stroke:#000000;stroke-width:0.8;\" x=\"108.055089\" xlink:href=\"#mda47bf032d\" y=\"224.64\"/>\n      </g>\n     </g>\n     <g id=\"text_2\">\n      <!-- 10 -->\n      <g transform=\"translate(101.692589 239.238437)scale(0.1 -0.1)\">\n       <defs>\n        <path d=\"M 12.40625 8.296875 \nL 28.515625 8.296875 \nL 28.515625 63.921875 \nL 10.984375 60.40625 \nL 10.984375 69.390625 \nL 28.421875 72.90625 \nL 38.28125 72.90625 \nL 38.28125 8.296875 \nL 54.390625 8.296875 \nL 54.390625 0 \nL 12.40625 0 \nz\n\" id=\"DejaVuSans-49\"/>\n       </defs>\n       <use xlink:href=\"#DejaVuSans-49\"/>\n       <use x=\"63.623047\" xlink:href=\"#DejaVuSans-48\"/>\n      </g>\n     </g>\n    </g>\n    <g id=\"xtick_3\">\n     <g id=\"line2d_3\">\n      <g>\n       <use style=\"stroke:#000000;stroke-width:0.8;\" x=\"174.221097\" xlink:href=\"#mda47bf032d\" y=\"224.64\"/>\n      </g>\n     </g>\n     <g id=\"text_3\">\n      <!-- 20 -->\n      <g transform=\"translate(167.858597 239.238437)scale(0.1 -0.1)\">\n       <defs>\n        <path d=\"M 19.1875 8.296875 \nL 53.609375 8.296875 \nL 53.609375 0 \nL 7.328125 0 \nL 7.328125 8.296875 \nQ 12.9375 14.109375 22.625 23.890625 \nQ 32.328125 33.6875 34.8125 36.53125 \nQ 39.546875 41.84375 41.421875 45.53125 \nQ 43.3125 49.21875 43.3125 52.78125 \nQ 43.3125 58.59375 39.234375 62.25 \nQ 35.15625 65.921875 28.609375 65.921875 \nQ 23.96875 65.921875 18.8125 64.3125 \nQ 13.671875 62.703125 7.8125 59.421875 \nL 7.8125 69.390625 \nQ 13.765625 71.78125 18.9375 73 \nQ 24.125 74.21875 28.421875 74.21875 \nQ 39.75 74.21875 46.484375 68.546875 \nQ 53.21875 62.890625 53.21875 53.421875 \nQ 53.21875 48.921875 51.53125 44.890625 \nQ 49.859375 40.875 45.40625 35.40625 \nQ 44.1875 33.984375 37.640625 27.21875 \nQ 31.109375 20.453125 19.1875 8.296875 \nz\n\" id=\"DejaVuSans-50\"/>\n       </defs>\n       <use xlink:href=\"#DejaVuSans-50\"/>\n       <use x=\"63.623047\" xlink:href=\"#DejaVuSans-48\"/>\n      </g>\n     </g>\n    </g>\n    <g id=\"xtick_4\">\n     <g id=\"line2d_4\">\n      <g>\n       <use style=\"stroke:#000000;stroke-width:0.8;\" x=\"240.387105\" xlink:href=\"#mda47bf032d\" y=\"224.64\"/>\n      </g>\n     </g>\n     <g id=\"text_4\">\n      <!-- 30 -->\n      <g transform=\"translate(234.024605 239.238437)scale(0.1 -0.1)\">\n       <defs>\n        <path d=\"M 40.578125 39.3125 \nQ 47.65625 37.796875 51.625 33 \nQ 55.609375 28.21875 55.609375 21.1875 \nQ 55.609375 10.40625 48.1875 4.484375 \nQ 40.765625 -1.421875 27.09375 -1.421875 \nQ 22.515625 -1.421875 17.65625 -0.515625 \nQ 12.796875 0.390625 7.625 2.203125 \nL 7.625 11.71875 \nQ 11.71875 9.328125 16.59375 8.109375 \nQ 21.484375 6.890625 26.8125 6.890625 \nQ 36.078125 6.890625 40.9375 10.546875 \nQ 45.796875 14.203125 45.796875 21.1875 \nQ 45.796875 27.640625 41.28125 31.265625 \nQ 36.765625 34.90625 28.71875 34.90625 \nL 20.21875 34.90625 \nL 20.21875 43.015625 \nL 29.109375 43.015625 \nQ 36.375 43.015625 40.234375 45.921875 \nQ 44.09375 48.828125 44.09375 54.296875 \nQ 44.09375 59.90625 40.109375 62.90625 \nQ 36.140625 65.921875 28.71875 65.921875 \nQ 24.65625 65.921875 20.015625 65.03125 \nQ 15.375 64.15625 9.8125 62.3125 \nL 9.8125 71.09375 \nQ 15.4375 72.65625 20.34375 73.4375 \nQ 25.25 74.21875 29.59375 74.21875 \nQ 40.828125 74.21875 47.359375 69.109375 \nQ 53.90625 64.015625 53.90625 55.328125 \nQ 53.90625 49.265625 50.4375 45.09375 \nQ 46.96875 40.921875 40.578125 39.3125 \nz\n\" id=\"DejaVuSans-51\"/>\n       </defs>\n       <use xlink:href=\"#DejaVuSans-51\"/>\n       <use x=\"63.623047\" xlink:href=\"#DejaVuSans-48\"/>\n      </g>\n     </g>\n    </g>\n    <g id=\"xtick_5\">\n     <g id=\"line2d_5\">\n      <g>\n       <use style=\"stroke:#000000;stroke-width:0.8;\" x=\"306.553113\" xlink:href=\"#mda47bf032d\" y=\"224.64\"/>\n      </g>\n     </g>\n     <g id=\"text_5\">\n      <!-- 40 -->\n      <g transform=\"translate(300.190613 239.238437)scale(0.1 -0.1)\">\n       <defs>\n        <path d=\"M 37.796875 64.3125 \nL 12.890625 25.390625 \nL 37.796875 25.390625 \nz\nM 35.203125 72.90625 \nL 47.609375 72.90625 \nL 47.609375 25.390625 \nL 58.015625 25.390625 \nL 58.015625 17.1875 \nL 47.609375 17.1875 \nL 47.609375 0 \nL 37.796875 0 \nL 37.796875 17.1875 \nL 4.890625 17.1875 \nL 4.890625 26.703125 \nz\n\" id=\"DejaVuSans-52\"/>\n       </defs>\n       <use xlink:href=\"#DejaVuSans-52\"/>\n       <use x=\"63.623047\" xlink:href=\"#DejaVuSans-48\"/>\n      </g>\n     </g>\n    </g>\n   </g>\n   <g id=\"matplotlib.axis_2\">\n    <g id=\"ytick_1\">\n     <g id=\"line2d_6\">\n      <defs>\n       <path d=\"M 0 0 \nL -3.5 0 \n\" id=\"m774ee1201f\" style=\"stroke:#000000;stroke-width:0.8;\"/>\n      </defs>\n      <g>\n       <use style=\"stroke:#000000;stroke-width:0.8;\" x=\"33.2875\" xlink:href=\"#m774ee1201f\" y=\"224.64\"/>\n      </g>\n     </g>\n     <g id=\"text_6\">\n      <!-- 0 -->\n      <g transform=\"translate(19.925 228.439219)scale(0.1 -0.1)\">\n       <use xlink:href=\"#DejaVuSans-48\"/>\n      </g>\n     </g>\n    </g>\n    <g id=\"ytick_2\">\n     <g id=\"line2d_7\">\n      <g>\n       <use style=\"stroke:#000000;stroke-width:0.8;\" x=\"33.2875\" xlink:href=\"#m774ee1201f\" y=\"200.475973\"/>\n      </g>\n     </g>\n     <g id=\"text_7\">\n      <!-- 100 -->\n      <g transform=\"translate(7.2 204.275191)scale(0.1 -0.1)\">\n       <use xlink:href=\"#DejaVuSans-49\"/>\n       <use x=\"63.623047\" xlink:href=\"#DejaVuSans-48\"/>\n       <use x=\"127.246094\" xlink:href=\"#DejaVuSans-48\"/>\n      </g>\n     </g>\n    </g>\n    <g id=\"ytick_3\">\n     <g id=\"line2d_8\">\n      <g>\n       <use style=\"stroke:#000000;stroke-width:0.8;\" x=\"33.2875\" xlink:href=\"#m774ee1201f\" y=\"176.311945\"/>\n      </g>\n     </g>\n     <g id=\"text_8\">\n      <!-- 200 -->\n      <g transform=\"translate(7.2 180.111164)scale(0.1 -0.1)\">\n       <use xlink:href=\"#DejaVuSans-50\"/>\n       <use x=\"63.623047\" xlink:href=\"#DejaVuSans-48\"/>\n       <use x=\"127.246094\" xlink:href=\"#DejaVuSans-48\"/>\n      </g>\n     </g>\n    </g>\n    <g id=\"ytick_4\">\n     <g id=\"line2d_9\">\n      <g>\n       <use style=\"stroke:#000000;stroke-width:0.8;\" x=\"33.2875\" xlink:href=\"#m774ee1201f\" y=\"152.147918\"/>\n      </g>\n     </g>\n     <g id=\"text_9\">\n      <!-- 300 -->\n      <g transform=\"translate(7.2 155.947137)scale(0.1 -0.1)\">\n       <use xlink:href=\"#DejaVuSans-51\"/>\n       <use x=\"63.623047\" xlink:href=\"#DejaVuSans-48\"/>\n       <use x=\"127.246094\" xlink:href=\"#DejaVuSans-48\"/>\n      </g>\n     </g>\n    </g>\n    <g id=\"ytick_5\">\n     <g id=\"line2d_10\">\n      <g>\n       <use style=\"stroke:#000000;stroke-width:0.8;\" x=\"33.2875\" xlink:href=\"#m774ee1201f\" y=\"127.983891\"/>\n      </g>\n     </g>\n     <g id=\"text_10\">\n      <!-- 400 -->\n      <g transform=\"translate(7.2 131.783109)scale(0.1 -0.1)\">\n       <use xlink:href=\"#DejaVuSans-52\"/>\n       <use x=\"63.623047\" xlink:href=\"#DejaVuSans-48\"/>\n       <use x=\"127.246094\" xlink:href=\"#DejaVuSans-48\"/>\n      </g>\n     </g>\n    </g>\n    <g id=\"ytick_6\">\n     <g id=\"line2d_11\">\n      <g>\n       <use style=\"stroke:#000000;stroke-width:0.8;\" x=\"33.2875\" xlink:href=\"#m774ee1201f\" y=\"103.819863\"/>\n      </g>\n     </g>\n     <g id=\"text_11\">\n      <!-- 500 -->\n      <g transform=\"translate(7.2 107.619082)scale(0.1 -0.1)\">\n       <defs>\n        <path d=\"M 10.796875 72.90625 \nL 49.515625 72.90625 \nL 49.515625 64.59375 \nL 19.828125 64.59375 \nL 19.828125 46.734375 \nQ 21.96875 47.46875 24.109375 47.828125 \nQ 26.265625 48.1875 28.421875 48.1875 \nQ 40.625 48.1875 47.75 41.5 \nQ 54.890625 34.8125 54.890625 23.390625 \nQ 54.890625 11.625 47.5625 5.09375 \nQ 40.234375 -1.421875 26.90625 -1.421875 \nQ 22.3125 -1.421875 17.546875 -0.640625 \nQ 12.796875 0.140625 7.71875 1.703125 \nL 7.71875 11.625 \nQ 12.109375 9.234375 16.796875 8.0625 \nQ 21.484375 6.890625 26.703125 6.890625 \nQ 35.15625 6.890625 40.078125 11.328125 \nQ 45.015625 15.765625 45.015625 23.390625 \nQ 45.015625 31 40.078125 35.4375 \nQ 35.15625 39.890625 26.703125 39.890625 \nQ 22.75 39.890625 18.8125 39.015625 \nQ 14.890625 38.140625 10.796875 36.28125 \nz\n\" id=\"DejaVuSans-53\"/>\n       </defs>\n       <use xlink:href=\"#DejaVuSans-53\"/>\n       <use x=\"63.623047\" xlink:href=\"#DejaVuSans-48\"/>\n       <use x=\"127.246094\" xlink:href=\"#DejaVuSans-48\"/>\n      </g>\n     </g>\n    </g>\n    <g id=\"ytick_7\">\n     <g id=\"line2d_12\">\n      <g>\n       <use style=\"stroke:#000000;stroke-width:0.8;\" x=\"33.2875\" xlink:href=\"#m774ee1201f\" y=\"79.655836\"/>\n      </g>\n     </g>\n     <g id=\"text_12\">\n      <!-- 600 -->\n      <g transform=\"translate(7.2 83.455055)scale(0.1 -0.1)\">\n       <defs>\n        <path d=\"M 33.015625 40.375 \nQ 26.375 40.375 22.484375 35.828125 \nQ 18.609375 31.296875 18.609375 23.390625 \nQ 18.609375 15.53125 22.484375 10.953125 \nQ 26.375 6.390625 33.015625 6.390625 \nQ 39.65625 6.390625 43.53125 10.953125 \nQ 47.40625 15.53125 47.40625 23.390625 \nQ 47.40625 31.296875 43.53125 35.828125 \nQ 39.65625 40.375 33.015625 40.375 \nz\nM 52.59375 71.296875 \nL 52.59375 62.3125 \nQ 48.875 64.0625 45.09375 64.984375 \nQ 41.3125 65.921875 37.59375 65.921875 \nQ 27.828125 65.921875 22.671875 59.328125 \nQ 17.53125 52.734375 16.796875 39.40625 \nQ 19.671875 43.65625 24.015625 45.921875 \nQ 28.375 48.1875 33.59375 48.1875 \nQ 44.578125 48.1875 50.953125 41.515625 \nQ 57.328125 34.859375 57.328125 23.390625 \nQ 57.328125 12.15625 50.6875 5.359375 \nQ 44.046875 -1.421875 33.015625 -1.421875 \nQ 20.359375 -1.421875 13.671875 8.265625 \nQ 6.984375 17.96875 6.984375 36.375 \nQ 6.984375 53.65625 15.1875 63.9375 \nQ 23.390625 74.21875 37.203125 74.21875 \nQ 40.921875 74.21875 44.703125 73.484375 \nQ 48.484375 72.75 52.59375 71.296875 \nz\n\" id=\"DejaVuSans-54\"/>\n       </defs>\n       <use xlink:href=\"#DejaVuSans-54\"/>\n       <use x=\"63.623047\" xlink:href=\"#DejaVuSans-48\"/>\n       <use x=\"127.246094\" xlink:href=\"#DejaVuSans-48\"/>\n      </g>\n     </g>\n    </g>\n    <g id=\"ytick_8\">\n     <g id=\"line2d_13\">\n      <g>\n       <use style=\"stroke:#000000;stroke-width:0.8;\" x=\"33.2875\" xlink:href=\"#m774ee1201f\" y=\"55.491809\"/>\n      </g>\n     </g>\n     <g id=\"text_13\">\n      <!-- 700 -->\n      <g transform=\"translate(7.2 59.291027)scale(0.1 -0.1)\">\n       <defs>\n        <path d=\"M 8.203125 72.90625 \nL 55.078125 72.90625 \nL 55.078125 68.703125 \nL 28.609375 0 \nL 18.3125 0 \nL 43.21875 64.59375 \nL 8.203125 64.59375 \nz\n\" id=\"DejaVuSans-55\"/>\n       </defs>\n       <use xlink:href=\"#DejaVuSans-55\"/>\n       <use x=\"63.623047\" xlink:href=\"#DejaVuSans-48\"/>\n       <use x=\"127.246094\" xlink:href=\"#DejaVuSans-48\"/>\n      </g>\n     </g>\n    </g>\n    <g id=\"ytick_9\">\n     <g id=\"line2d_14\">\n      <g>\n       <use style=\"stroke:#000000;stroke-width:0.8;\" x=\"33.2875\" xlink:href=\"#m774ee1201f\" y=\"31.327781\"/>\n      </g>\n     </g>\n     <g id=\"text_14\">\n      <!-- 800 -->\n      <g transform=\"translate(7.2 35.127)scale(0.1 -0.1)\">\n       <defs>\n        <path d=\"M 31.78125 34.625 \nQ 24.75 34.625 20.71875 30.859375 \nQ 16.703125 27.09375 16.703125 20.515625 \nQ 16.703125 13.921875 20.71875 10.15625 \nQ 24.75 6.390625 31.78125 6.390625 \nQ 38.8125 6.390625 42.859375 10.171875 \nQ 46.921875 13.96875 46.921875 20.515625 \nQ 46.921875 27.09375 42.890625 30.859375 \nQ 38.875 34.625 31.78125 34.625 \nz\nM 21.921875 38.8125 \nQ 15.578125 40.375 12.03125 44.71875 \nQ 8.5 49.078125 8.5 55.328125 \nQ 8.5 64.0625 14.71875 69.140625 \nQ 20.953125 74.21875 31.78125 74.21875 \nQ 42.671875 74.21875 48.875 69.140625 \nQ 55.078125 64.0625 55.078125 55.328125 \nQ 55.078125 49.078125 51.53125 44.71875 \nQ 48 40.375 41.703125 38.8125 \nQ 48.828125 37.15625 52.796875 32.3125 \nQ 56.78125 27.484375 56.78125 20.515625 \nQ 56.78125 9.90625 50.3125 4.234375 \nQ 43.84375 -1.421875 31.78125 -1.421875 \nQ 19.734375 -1.421875 13.25 4.234375 \nQ 6.78125 9.90625 6.78125 20.515625 \nQ 6.78125 27.484375 10.78125 32.3125 \nQ 14.796875 37.15625 21.921875 38.8125 \nz\nM 18.3125 54.390625 \nQ 18.3125 48.734375 21.84375 45.5625 \nQ 25.390625 42.390625 31.78125 42.390625 \nQ 38.140625 42.390625 41.71875 45.5625 \nQ 45.3125 48.734375 45.3125 54.390625 \nQ 45.3125 60.0625 41.71875 63.234375 \nQ 38.140625 66.40625 31.78125 66.40625 \nQ 25.390625 66.40625 21.84375 63.234375 \nQ 18.3125 60.0625 18.3125 54.390625 \nz\n\" id=\"DejaVuSans-56\"/>\n       </defs>\n       <use xlink:href=\"#DejaVuSans-56\"/>\n       <use x=\"63.623047\" xlink:href=\"#DejaVuSans-48\"/>\n       <use x=\"127.246094\" xlink:href=\"#DejaVuSans-48\"/>\n      </g>\n     </g>\n    </g>\n   </g>\n   <g id=\"patch_13\">\n    <path d=\"M 33.2875 224.64 \nL 33.2875 7.2 \n\" style=\"fill:none;stroke:#000000;stroke-linecap:square;stroke-linejoin:miter;stroke-width:0.8;\"/>\n   </g>\n   <g id=\"patch_14\">\n    <path d=\"M 368.0875 224.64 \nL 368.0875 7.2 \n\" style=\"fill:none;stroke:#000000;stroke-linecap:square;stroke-linejoin:miter;stroke-width:0.8;\"/>\n   </g>\n   <g id=\"patch_15\">\n    <path d=\"M 33.2875 224.64 \nL 368.0875 224.64 \n\" style=\"fill:none;stroke:#000000;stroke-linecap:square;stroke-linejoin:miter;stroke-width:0.8;\"/>\n   </g>\n   <g id=\"patch_16\">\n    <path d=\"M 33.2875 7.2 \nL 368.0875 7.2 \n\" style=\"fill:none;stroke:#000000;stroke-linecap:square;stroke-linejoin:miter;stroke-width:0.8;\"/>\n   </g>\n  </g>\n </g>\n <defs>\n  <clipPath id=\"p9aa89e5c9d\">\n   <rect height=\"217.44\" width=\"334.8\" x=\"33.2875\" y=\"7.2\"/>\n  </clipPath>\n </defs>\n</svg>\n",
      "image/png": "[encoded data removed]"
     },
     "metadata": {
      "needs_background": "light"
     }
    }
   ],
   "source": [
    "import matplotlib.pyplot as plt\n",
    "%matplotlib inline\n",
    "plt.hist(customer_join['membership_period'])"
   ]
  },
  {
   "cell_type": "markdown",
   "metadata": {},
   "source": [
    "### ノック30：退会ユーザーと継続ユーザーの違いを把握しよう"
   ]
  },
  {
   "cell_type": "code",
   "execution_count": 119,
   "metadata": {},
   "outputs": [
    {
     "output_type": "execute_result",
     "data": {
      "text/plain": [
       "       is_deleted         price         mean       median          max  \\\n",
       "count      1350.0   1350.000000  1350.000000  1350.000000  1350.000000   \n",
       "mean          1.0   8595.555556     3.865474     3.621852     6.461481   \n",
       "std           0.0   1949.163652     1.246385     1.270847     2.584021   \n",
       "min           1.0   6000.000000     1.000000     1.000000     1.000000   \n",
       "25%           1.0   6000.000000     3.000000     3.000000     4.000000   \n",
       "50%           1.0   7500.000000     4.000000     4.000000     7.000000   \n",
       "75%           1.0  10500.000000     4.666667     4.500000     8.000000   \n",
       "max           1.0  10500.000000     9.000000     9.000000    13.000000   \n",
       "\n",
       "               min  routine_flg  membership_period  \n",
       "count  1350.000000  1350.000000        1350.000000  \n",
       "mean      1.821481     0.456296           8.026667  \n",
       "std       0.976361     0.498271           5.033692  \n",
       "min       1.000000     0.000000           1.000000  \n",
       "25%       1.000000     0.000000           4.000000  \n",
       "50%       2.000000     0.000000           7.000000  \n",
       "75%       2.000000     1.000000          11.000000  \n",
       "max       8.000000     1.000000          23.000000  "
      ],
      "text/html": "<div>\n<style scoped>\n    .dataframe tbody tr th:only-of-type {\n        vertical-align: middle;\n    }\n\n    .dataframe tbody tr th {\n        vertical-align: top;\n    }\n\n    .dataframe thead th {\n        text-align: right;\n    }\n</style>\n<table border=\"1\" class=\"dataframe\">\n  <thead>\n    <tr style=\"text-align: right;\">\n      <th></th>\n      <th>is_deleted</th>\n      <th>price</th>\n      <th>mean</th>\n      <th>median</th>\n      <th>max</th>\n      <th>min</th>\n      <th>routine_flg</th>\n      <th>membership_period</th>\n    </tr>\n  </thead>\n  <tbody>\n    <tr>\n      <th>count</th>\n      <td>1350.0</td>\n      <td>1350.000000</td>\n      <td>1350.000000</td>\n      <td>1350.000000</td>\n      <td>1350.000000</td>\n      <td>1350.000000</td>\n      <td>1350.000000</td>\n      <td>1350.000000</td>\n    </tr>\n    <tr>\n      <th>mean</th>\n      <td>1.0</td>\n      <td>8595.555556</td>\n      <td>3.865474</td>\n      <td>3.621852</td>\n      <td>6.461481</td>\n      <td>1.821481</td>\n      <td>0.456296</td>\n      <td>8.026667</td>\n    </tr>\n    <tr>\n      <th>std</th>\n      <td>0.0</td>\n      <td>1949.163652</td>\n      <td>1.246385</td>\n      <td>1.270847</td>\n      <td>2.584021</td>\n      <td>0.976361</td>\n      <td>0.498271</td>\n      <td>5.033692</td>\n    </tr>\n    <tr>\n      <th>min</th>\n      <td>1.0</td>\n      <td>6000.000000</td>\n      <td>1.000000</td>\n      <td>1.000000</td>\n      <td>1.000000</td>\n      <td>1.000000</td>\n      <td>0.000000</td>\n      <td>1.000000</td>\n    </tr>\n    <tr>\n      <th>25%</th>\n      <td>1.0</td>\n      <td>6000.000000</td>\n      <td>3.000000</td>\n      <td>3.000000</td>\n      <td>4.000000</td>\n      <td>1.000000</td>\n      <td>0.000000</td>\n      <td>4.000000</td>\n    </tr>\n    <tr>\n      <th>50%</th>\n      <td>1.0</td>\n      <td>7500.000000</td>\n      <td>4.000000</td>\n      <td>4.000000</td>\n      <td>7.000000</td>\n      <td>2.000000</td>\n      <td>0.000000</td>\n      <td>7.000000</td>\n    </tr>\n    <tr>\n      <th>75%</th>\n      <td>1.0</td>\n      <td>10500.000000</td>\n      <td>4.666667</td>\n      <td>4.500000</td>\n      <td>8.000000</td>\n      <td>2.000000</td>\n      <td>1.000000</td>\n      <td>11.000000</td>\n    </tr>\n    <tr>\n      <th>max</th>\n      <td>1.0</td>\n      <td>10500.000000</td>\n      <td>9.000000</td>\n      <td>9.000000</td>\n      <td>13.000000</td>\n      <td>8.000000</td>\n      <td>1.000000</td>\n      <td>23.000000</td>\n    </tr>\n  </tbody>\n</table>\n</div>"
     },
     "metadata": {},
     "execution_count": 119
    }
   ],
   "source": [
    "customer_end = customer_join.loc[customer_join['is_deleted']==1]\n",
    "customer_end.describe()"
   ]
  },
  {
   "cell_type": "code",
   "execution_count": 120,
   "metadata": {},
   "outputs": [
    {
     "output_type": "execute_result",
     "data": {
      "text/plain": [
       "       is_deleted         price         mean       median          max  \\\n",
       "count      2842.0   2842.000000  2842.000000  2842.000000  2842.000000   \n",
       "mean          0.0   8542.927516     6.030288     6.024279     8.471147   \n",
       "std           0.0   1977.189779     1.553587     1.599765     1.571048   \n",
       "min           0.0   6000.000000     3.166667     3.000000     5.000000   \n",
       "25%           0.0   6000.000000     4.833333     5.000000     7.000000   \n",
       "50%           0.0   7500.000000     5.583333     5.500000     8.000000   \n",
       "75%           0.0  10500.000000     7.178030     7.000000    10.000000   \n",
       "max           0.0  10500.000000    12.000000    12.000000    14.000000   \n",
       "\n",
       "               min  routine_flg  membership_period  \n",
       "count  2842.000000  2842.000000        2842.000000  \n",
       "mean      3.620690     0.984166          23.970443  \n",
       "std       2.030488     0.124855          13.746761  \n",
       "min       1.000000     0.000000           1.000000  \n",
       "25%       2.000000     1.000000          12.000000  \n",
       "50%       3.000000     1.000000          24.000000  \n",
       "75%       5.000000     1.000000          35.000000  \n",
       "max      12.000000     1.000000          47.000000  "
      ],
      "text/html": "<div>\n<style scoped>\n    .dataframe tbody tr th:only-of-type {\n        vertical-align: middle;\n    }\n\n    .dataframe tbody tr th {\n        vertical-align: top;\n    }\n\n    .dataframe thead th {\n        text-align: right;\n    }\n</style>\n<table border=\"1\" class=\"dataframe\">\n  <thead>\n    <tr style=\"text-align: right;\">\n      <th></th>\n      <th>is_deleted</th>\n      <th>price</th>\n      <th>mean</th>\n      <th>median</th>\n      <th>max</th>\n      <th>min</th>\n      <th>routine_flg</th>\n      <th>membership_period</th>\n    </tr>\n  </thead>\n  <tbody>\n    <tr>\n      <th>count</th>\n      <td>2842.0</td>\n      <td>2842.000000</td>\n      <td>2842.000000</td>\n      <td>2842.000000</td>\n      <td>2842.000000</td>\n      <td>2842.000000</td>\n      <td>2842.000000</td>\n      <td>2842.000000</td>\n    </tr>\n    <tr>\n      <th>mean</th>\n      <td>0.0</td>\n      <td>8542.927516</td>\n      <td>6.030288</td>\n      <td>6.024279</td>\n      <td>8.471147</td>\n      <td>3.620690</td>\n      <td>0.984166</td>\n      <td>23.970443</td>\n    </tr>\n    <tr>\n      <th>std</th>\n      <td>0.0</td>\n      <td>1977.189779</td>\n      <td>1.553587</td>\n      <td>1.599765</td>\n      <td>1.571048</td>\n      <td>2.030488</td>\n      <td>0.124855</td>\n      <td>13.746761</td>\n    </tr>\n    <tr>\n      <th>min</th>\n      <td>0.0</td>\n      <td>6000.000000</td>\n      <td>3.166667</td>\n      <td>3.000000</td>\n      <td>5.000000</td>\n      <td>1.000000</td>\n      <td>0.000000</td>\n      <td>1.000000</td>\n    </tr>\n    <tr>\n      <th>25%</th>\n      <td>0.0</td>\n      <td>6000.000000</td>\n      <td>4.833333</td>\n      <td>5.000000</td>\n      <td>7.000000</td>\n      <td>2.000000</td>\n      <td>1.000000</td>\n      <td>12.000000</td>\n    </tr>\n    <tr>\n      <th>50%</th>\n      <td>0.0</td>\n      <td>7500.000000</td>\n      <td>5.583333</td>\n      <td>5.500000</td>\n      <td>8.000000</td>\n      <td>3.000000</td>\n      <td>1.000000</td>\n      <td>24.000000</td>\n    </tr>\n    <tr>\n      <th>75%</th>\n      <td>0.0</td>\n      <td>10500.000000</td>\n      <td>7.178030</td>\n      <td>7.000000</td>\n      <td>10.000000</td>\n      <td>5.000000</td>\n      <td>1.000000</td>\n      <td>35.000000</td>\n    </tr>\n    <tr>\n      <th>max</th>\n      <td>0.0</td>\n      <td>10500.000000</td>\n      <td>12.000000</td>\n      <td>12.000000</td>\n      <td>14.000000</td>\n      <td>12.000000</td>\n      <td>1.000000</td>\n      <td>47.000000</td>\n    </tr>\n  </tbody>\n</table>\n</div>"
     },
     "metadata": {},
     "execution_count": 120
    }
   ],
   "source": [
    "customer_stay = customer_join.loc[customer_join['is_deleted']==0]\n",
    "customer_stay.describe()"
   ]
  },
  {
   "cell_type": "code",
   "execution_count": 121,
   "metadata": {},
   "outputs": [],
   "source": [
    "customer_join.to_csv('customer_join.csv',index=False)"
   ]
  },
  {
   "cell_type": "code",
   "execution_count": null,
   "metadata": {},
   "outputs": [],
   "source": []
  }
 ],
 "metadata": {
  "kernelspec": {
   "display_name": "Python 3",
   "language": "python",
   "name": "python3"
  },
  "language_info": {
   "codemirror_mode": {
    "name": "ipython",
    "version": 3
   },
   "file_extension": ".py",
   "mimetype": "text/x-python",
   "name": "python",
   "nbconvert_exporter": "python",
   "pygments_lexer": "ipython3",
   "version": "3.8.5-final"
  }
 },
 "nbformat": 4,
 "nbformat_minor": 2
}