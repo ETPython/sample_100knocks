{
 "cells": [
  {
   "cell_type": "markdown",
   "metadata": {},
   "source": [
    "# 5章 顧客の退会を予測する１０本ノック\n",
    "\n",
    "引き続き、スポーツジムの会員データを使って顧客の行動を分析していきます。  \n",
    "３章では顧客の全体像を把握し、4章では数ヶ月利用している顧客の来月の利用回数の予測を行いました。   \n",
    "ここでは、教師あり学習の分類を用いて、顧客の退会予測を取り扱います。"
   ]
  },
  {
   "cell_type": "markdown",
   "metadata": {},
   "source": [
    "### ノック41：データを読み込んで利用データを整形しよう"
   ]
  },
  {
   "cell_type": "code",
   "execution_count": 73,
   "metadata": {},
   "outputs": [],
   "source": [
    "import pandas as pd \n",
    "customer = pd.read_csv('customer_join.csv')\n",
    "uselog_months = pd.read_csv('use_log_months.csv')"
   ]
  },
  {
   "cell_type": "code",
   "execution_count": 74,
   "metadata": {},
   "outputs": [
    {
     "output_type": "execute_result",
     "data": {
      "text/plain": [
       "  customer_id   name class gender  start_date end_date campaign_id  \\\n",
       "0    OA832399   XXXX   C01      F  2015-05-01      NaN         CA1   \n",
       "1    PL270116  XXXXX   C01      M  2015-05-01      NaN         CA1   \n",
       "\n",
       "   is_deleted class_name  price campaign_name      mean  median  max  min  \\\n",
       "0           0     オールタイム  10500            通常  4.833333     5.0    8    2   \n",
       "1           0     オールタイム  10500            通常  5.083333     5.0    7    3   \n",
       "\n",
       "   routine_flg   calc_date  membership_period  \n",
       "0            1  2019-04-30                 47  \n",
       "1            1  2019-04-30                 47  "
      ],
      "text/html": "<div>\n<style scoped>\n    .dataframe tbody tr th:only-of-type {\n        vertical-align: middle;\n    }\n\n    .dataframe tbody tr th {\n        vertical-align: top;\n    }\n\n    .dataframe thead th {\n        text-align: right;\n    }\n</style>\n<table border=\"1\" class=\"dataframe\">\n  <thead>\n    <tr style=\"text-align: right;\">\n      <th></th>\n      <th>customer_id</th>\n      <th>name</th>\n      <th>class</th>\n      <th>gender</th>\n      <th>start_date</th>\n      <th>end_date</th>\n      <th>campaign_id</th>\n      <th>is_deleted</th>\n      <th>class_name</th>\n      <th>price</th>\n      <th>campaign_name</th>\n      <th>mean</th>\n      <th>median</th>\n      <th>max</th>\n      <th>min</th>\n      <th>routine_flg</th>\n      <th>calc_date</th>\n      <th>membership_period</th>\n    </tr>\n  </thead>\n  <tbody>\n    <tr>\n      <th>0</th>\n      <td>OA832399</td>\n      <td>XXXX</td>\n      <td>C01</td>\n      <td>F</td>\n      <td>2015-05-01</td>\n      <td>NaN</td>\n      <td>CA1</td>\n      <td>0</td>\n      <td>オールタイム</td>\n      <td>10500</td>\n      <td>通常</td>\n      <td>4.833333</td>\n      <td>5.0</td>\n      <td>8</td>\n      <td>2</td>\n      <td>1</td>\n      <td>2019-04-30</td>\n      <td>47</td>\n    </tr>\n    <tr>\n      <th>1</th>\n      <td>PL270116</td>\n      <td>XXXXX</td>\n      <td>C01</td>\n      <td>M</td>\n      <td>2015-05-01</td>\n      <td>NaN</td>\n      <td>CA1</td>\n      <td>0</td>\n      <td>オールタイム</td>\n      <td>10500</td>\n      <td>通常</td>\n      <td>5.083333</td>\n      <td>5.0</td>\n      <td>7</td>\n      <td>3</td>\n      <td>1</td>\n      <td>2019-04-30</td>\n      <td>47</td>\n    </tr>\n  </tbody>\n</table>\n</div>"
     },
     "metadata": {},
     "execution_count": 74
    }
   ],
   "source": [
    "customer.head(2)"
   ]
  },
  {
   "cell_type": "code",
   "execution_count": 75,
   "metadata": {},
   "outputs": [
    {
     "output_type": "execute_result",
     "data": {
      "text/plain": [
       "       年月 customer_id  count\n",
       "0  201804    AS002855      4\n",
       "1  201804    AS009013      2"
      ],
      "text/html": "<div>\n<style scoped>\n    .dataframe tbody tr th:only-of-type {\n        vertical-align: middle;\n    }\n\n    .dataframe tbody tr th {\n        vertical-align: top;\n    }\n\n    .dataframe thead th {\n        text-align: right;\n    }\n</style>\n<table border=\"1\" class=\"dataframe\">\n  <thead>\n    <tr style=\"text-align: right;\">\n      <th></th>\n      <th>年月</th>\n      <th>customer_id</th>\n      <th>count</th>\n    </tr>\n  </thead>\n  <tbody>\n    <tr>\n      <th>0</th>\n      <td>201804</td>\n      <td>AS002855</td>\n      <td>4</td>\n    </tr>\n    <tr>\n      <th>1</th>\n      <td>201804</td>\n      <td>AS009013</td>\n      <td>2</td>\n    </tr>\n  </tbody>\n</table>\n</div>"
     },
     "metadata": {},
     "execution_count": 75
    }
   ],
   "source": [
    "uselog_months.head(2)"
   ]
  },
  {
   "cell_type": "code",
   "execution_count": 76,
   "metadata": {},
   "outputs": [],
   "source": [
    "year_months = list(uselog_months['年月'].unique())\n",
    "uselog = pd.DataFrame()\n",
    "for i in range(1,len(year_months)):\n",
    "    tmp = uselog_months.loc[uselog_months['年月']==year_months[i]]\n",
    "    tmp.rename(columns={'count':'count_0'},inplace=True)\n",
    "    tmp_before = uselog_months.loc[uselog_months['年月']==year_months[i-1]]\n",
    "    del tmp_before['年月']\n",
    "    tmp_before.rename(columns={'count':'count_1'},inplace=True)\n",
    "    tmp = pd.merge(tmp,tmp_before,on='customer_id',how='left')\n",
    "    uselog = pd.concat([uselog,tmp],ignore_index=True)\n",
    "    "
   ]
  },
  {
   "cell_type": "code",
   "execution_count": 77,
   "metadata": {},
   "outputs": [
    {
     "output_type": "execute_result",
     "data": {
      "text/plain": [
       "       年月 customer_id  count_0  count_1\n",
       "0  201805    AS002855        5      4.0\n",
       "1  201805    AS009373        4      3.0\n",
       "2  201805    AS015233        7      NaN\n",
       "3  201805    AS015315        3      6.0\n",
       "4  201805    AS015739        5      7.0"
      ],
      "text/html": "<div>\n<style scoped>\n    .dataframe tbody tr th:only-of-type {\n        vertical-align: middle;\n    }\n\n    .dataframe tbody tr th {\n        vertical-align: top;\n    }\n\n    .dataframe thead th {\n        text-align: right;\n    }\n</style>\n<table border=\"1\" class=\"dataframe\">\n  <thead>\n    <tr style=\"text-align: right;\">\n      <th></th>\n      <th>年月</th>\n      <th>customer_id</th>\n      <th>count_0</th>\n      <th>count_1</th>\n    </tr>\n  </thead>\n  <tbody>\n    <tr>\n      <th>0</th>\n      <td>201805</td>\n      <td>AS002855</td>\n      <td>5</td>\n      <td>4.0</td>\n    </tr>\n    <tr>\n      <th>1</th>\n      <td>201805</td>\n      <td>AS009373</td>\n      <td>4</td>\n      <td>3.0</td>\n    </tr>\n    <tr>\n      <th>2</th>\n      <td>201805</td>\n      <td>AS015233</td>\n      <td>7</td>\n      <td>NaN</td>\n    </tr>\n    <tr>\n      <th>3</th>\n      <td>201805</td>\n      <td>AS015315</td>\n      <td>3</td>\n      <td>6.0</td>\n    </tr>\n    <tr>\n      <th>4</th>\n      <td>201805</td>\n      <td>AS015739</td>\n      <td>5</td>\n      <td>7.0</td>\n    </tr>\n  </tbody>\n</table>\n</div>"
     },
     "metadata": {},
     "execution_count": 77
    }
   ],
   "source": [
    "uselog.head()"
   ]
  },
  {
   "cell_type": "markdown",
   "metadata": {},
   "source": [
    "### ノック42：退会前月の退会顧客データを作成しよう"
   ]
  },
  {
   "cell_type": "code",
   "execution_count": 78,
   "metadata": {},
   "outputs": [],
   "source": [
    "#退会を未然に防ぐ事が目的なので退会申請する確率を予測する\n",
    "#退会した顧客に絞り込んでend_date列の一ヶ月前の年月を取得しuselogと結合する\n",
    "from dateutil.relativedelta import relativedelta\n",
    "exit_customer = customer.loc[customer[\"is_deleted\"]==1]\n",
    "exit_customer[\"exit_date\"] = None\n",
    "exit_customer[\"exit_date\"] = pd.to_datetime(exit_customer[\"exit_date\"])\n",
    "exit_customer[\"end_date\"] = pd.to_datetime(exit_customer[\"end_date\"])\n"
   ]
  },
  {
   "cell_type": "code",
   "execution_count": 79,
   "metadata": {},
   "outputs": [
    {
     "output_type": "execute_result",
     "data": {
      "text/plain": [
       "     customer_id    name class gender  start_date   end_date campaign_id  \\\n",
       "708     TS511179  XXXXXX   C01      F  2016-05-01 2018-04-30         CA1   \n",
       "729     TS443736    XXXX   C02      M  2016-05-01 2018-04-30         CA1   \n",
       "730     HD542886      XX   C01      M  2016-05-01 2018-04-30         CA1   \n",
       "770     HD597545   XXXXX   C03      F  2016-06-01 2018-05-31         CA1   \n",
       "785     HI749296   XXXXX   C01      M  2016-06-01 2018-05-31         CA1   \n",
       "...          ...     ...   ...    ...         ...        ...         ...   \n",
       "4049    OA143589   XXXXX   C03      F  2019-01-15 2019-02-28         CA1   \n",
       "4050    GD367382    XXXX   C01      M  2019-01-15 2019-03-31         CA1   \n",
       "4068    OA034442   XXXXX   C02      M  2019-02-05 2019-03-31         CA1   \n",
       "4086    PL508278   XXXXX   C03      M  2019-02-09 2019-03-31         CA1   \n",
       "4099    HD565792     XXX   C01      F  2019-02-11 2019-03-31         CA1   \n",
       "\n",
       "      is_deleted class_name  price campaign_name  mean  median  max  min  \\\n",
       "708            1     オールタイム  10500            通常   3.0     3.0    3    3   \n",
       "729            1      デイタイム   7500            通常   3.0     3.0    3    3   \n",
       "730            1     オールタイム  10500            通常   1.0     1.0    1    1   \n",
       "770            1        ナイト   6000            通常   3.5     3.5    4    3   \n",
       "785            1     オールタイム  10500            通常   3.0     3.0    3    3   \n",
       "...          ...        ...    ...           ...   ...     ...  ...  ...   \n",
       "4049           1        ナイト   6000            通常   4.5     4.5    6    3   \n",
       "4050           1     オールタイム  10500            通常   7.0     6.0   12    3   \n",
       "4068           1      デイタイム   7500            通常   7.0     7.0   11    3   \n",
       "4086           1        ナイト   6000            通常   7.0     7.0   10    4   \n",
       "4099           1     オールタイム  10500            通常   7.0     7.0    9    5   \n",
       "\n",
       "      routine_flg   calc_date  membership_period exit_date  \n",
       "708             0  2018-04-30                 23       NaT  \n",
       "729             0  2018-04-30                 23       NaT  \n",
       "730             0  2018-04-30                 23       NaT  \n",
       "770             1  2018-05-31                 23       NaT  \n",
       "785             0  2018-05-31                 23       NaT  \n",
       "...           ...         ...                ...       ...  \n",
       "4049            0  2019-02-28                  1       NaT  \n",
       "4050            0  2019-03-31                  2       NaT  \n",
       "4068            0  2019-03-31                  1       NaT  \n",
       "4086            0  2019-03-31                  1       NaT  \n",
       "4099            0  2019-03-31                  1       NaT  \n",
       "\n",
       "[1350 rows x 19 columns]"
      ],
      "text/html": "<div>\n<style scoped>\n    .dataframe tbody tr th:only-of-type {\n        vertical-align: middle;\n    }\n\n    .dataframe tbody tr th {\n        vertical-align: top;\n    }\n\n    .dataframe thead th {\n        text-align: right;\n    }\n</style>\n<table border=\"1\" class=\"dataframe\">\n  <thead>\n    <tr style=\"text-align: right;\">\n      <th></th>\n      <th>customer_id</th>\n      <th>name</th>\n      <th>class</th>\n      <th>gender</th>\n      <th>start_date</th>\n      <th>end_date</th>\n      <th>campaign_id</th>\n      <th>is_deleted</th>\n      <th>class_name</th>\n      <th>price</th>\n      <th>campaign_name</th>\n      <th>mean</th>\n      <th>median</th>\n      <th>max</th>\n      <th>min</th>\n      <th>routine_flg</th>\n      <th>calc_date</th>\n      <th>membership_period</th>\n      <th>exit_date</th>\n    </tr>\n  </thead>\n  <tbody>\n    <tr>\n      <th>708</th>\n      <td>TS511179</td>\n      <td>XXXXXX</td>\n      <td>C01</td>\n      <td>F</td>\n      <td>2016-05-01</td>\n      <td>2018-04-30</td>\n      <td>CA1</td>\n      <td>1</td>\n      <td>オールタイム</td>\n      <td>10500</td>\n      <td>通常</td>\n      <td>3.0</td>\n      <td>3.0</td>\n      <td>3</td>\n      <td>3</td>\n      <td>0</td>\n      <td>2018-04-30</td>\n      <td>23</td>\n      <td>NaT</td>\n    </tr>\n    <tr>\n      <th>729</th>\n      <td>TS443736</td>\n      <td>XXXX</td>\n      <td>C02</td>\n      <td>M</td>\n      <td>2016-05-01</td>\n      <td>2018-04-30</td>\n      <td>CA1</td>\n      <td>1</td>\n      <td>デイタイム</td>\n      <td>7500</td>\n      <td>通常</td>\n      <td>3.0</td>\n      <td>3.0</td>\n      <td>3</td>\n      <td>3</td>\n      <td>0</td>\n      <td>2018-04-30</td>\n      <td>23</td>\n      <td>NaT</td>\n    </tr>\n    <tr>\n      <th>730</th>\n      <td>HD542886</td>\n      <td>XX</td>\n      <td>C01</td>\n      <td>M</td>\n      <td>2016-05-01</td>\n      <td>2018-04-30</td>\n      <td>CA1</td>\n      <td>1</td>\n      <td>オールタイム</td>\n      <td>10500</td>\n      <td>通常</td>\n      <td>1.0</td>\n      <td>1.0</td>\n      <td>1</td>\n      <td>1</td>\n      <td>0</td>\n      <td>2018-04-30</td>\n      <td>23</td>\n      <td>NaT</td>\n    </tr>\n    <tr>\n      <th>770</th>\n      <td>HD597545</td>\n      <td>XXXXX</td>\n      <td>C03</td>\n      <td>F</td>\n      <td>2016-06-01</td>\n      <td>2018-05-31</td>\n      <td>CA1</td>\n      <td>1</td>\n      <td>ナイト</td>\n      <td>6000</td>\n      <td>通常</td>\n      <td>3.5</td>\n      <td>3.5</td>\n      <td>4</td>\n      <td>3</td>\n      <td>1</td>\n      <td>2018-05-31</td>\n      <td>23</td>\n      <td>NaT</td>\n    </tr>\n    <tr>\n      <th>785</th>\n      <td>HI749296</td>\n      <td>XXXXX</td>\n      <td>C01</td>\n      <td>M</td>\n      <td>2016-06-01</td>\n      <td>2018-05-31</td>\n      <td>CA1</td>\n      <td>1</td>\n      <td>オールタイム</td>\n      <td>10500</td>\n      <td>通常</td>\n      <td>3.0</td>\n      <td>3.0</td>\n      <td>3</td>\n      <td>3</td>\n      <td>0</td>\n      <td>2018-05-31</td>\n      <td>23</td>\n      <td>NaT</td>\n    </tr>\n    <tr>\n      <th>...</th>\n      <td>...</td>\n      <td>...</td>\n      <td>...</td>\n      <td>...</td>\n      <td>...</td>\n      <td>...</td>\n      <td>...</td>\n      <td>...</td>\n      <td>...</td>\n      <td>...</td>\n      <td>...</td>\n      <td>...</td>\n      <td>...</td>\n      <td>...</td>\n      <td>...</td>\n      <td>...</td>\n      <td>...</td>\n      <td>...</td>\n      <td>...</td>\n    </tr>\n    <tr>\n      <th>4049</th>\n      <td>OA143589</td>\n      <td>XXXXX</td>\n      <td>C03</td>\n      <td>F</td>\n      <td>2019-01-15</td>\n      <td>2019-02-28</td>\n      <td>CA1</td>\n      <td>1</td>\n      <td>ナイト</td>\n      <td>6000</td>\n      <td>通常</td>\n      <td>4.5</td>\n      <td>4.5</td>\n      <td>6</td>\n      <td>3</td>\n      <td>0</td>\n      <td>2019-02-28</td>\n      <td>1</td>\n      <td>NaT</td>\n    </tr>\n    <tr>\n      <th>4050</th>\n      <td>GD367382</td>\n      <td>XXXX</td>\n      <td>C01</td>\n      <td>M</td>\n      <td>2019-01-15</td>\n      <td>2019-03-31</td>\n      <td>CA1</td>\n      <td>1</td>\n      <td>オールタイム</td>\n      <td>10500</td>\n      <td>通常</td>\n      <td>7.0</td>\n      <td>6.0</td>\n      <td>12</td>\n      <td>3</td>\n      <td>0</td>\n      <td>2019-03-31</td>\n      <td>2</td>\n      <td>NaT</td>\n    </tr>\n    <tr>\n      <th>4068</th>\n      <td>OA034442</td>\n      <td>XXXXX</td>\n      <td>C02</td>\n      <td>M</td>\n      <td>2019-02-05</td>\n      <td>2019-03-31</td>\n      <td>CA1</td>\n      <td>1</td>\n      <td>デイタイム</td>\n      <td>7500</td>\n      <td>通常</td>\n      <td>7.0</td>\n      <td>7.0</td>\n      <td>11</td>\n      <td>3</td>\n      <td>0</td>\n      <td>2019-03-31</td>\n      <td>1</td>\n      <td>NaT</td>\n    </tr>\n    <tr>\n      <th>4086</th>\n      <td>PL508278</td>\n      <td>XXXXX</td>\n      <td>C03</td>\n      <td>M</td>\n      <td>2019-02-09</td>\n      <td>2019-03-31</td>\n      <td>CA1</td>\n      <td>1</td>\n      <td>ナイト</td>\n      <td>6000</td>\n      <td>通常</td>\n      <td>7.0</td>\n      <td>7.0</td>\n      <td>10</td>\n      <td>4</td>\n      <td>0</td>\n      <td>2019-03-31</td>\n      <td>1</td>\n      <td>NaT</td>\n    </tr>\n    <tr>\n      <th>4099</th>\n      <td>HD565792</td>\n      <td>XXX</td>\n      <td>C01</td>\n      <td>F</td>\n      <td>2019-02-11</td>\n      <td>2019-03-31</td>\n      <td>CA1</td>\n      <td>1</td>\n      <td>オールタイム</td>\n      <td>10500</td>\n      <td>通常</td>\n      <td>7.0</td>\n      <td>7.0</td>\n      <td>9</td>\n      <td>5</td>\n      <td>0</td>\n      <td>2019-03-31</td>\n      <td>1</td>\n      <td>NaT</td>\n    </tr>\n  </tbody>\n</table>\n<p>1350 rows × 19 columns</p>\n</div>"
     },
     "metadata": {},
     "execution_count": 79
    }
   ],
   "source": [
    "exit_customer"
   ]
  },
  {
   "cell_type": "code",
   "execution_count": 80,
   "metadata": {},
   "outputs": [
    {
     "output_type": "execute_result",
     "data": {
      "text/plain": [
       "     customer_id    name class gender  start_date   end_date campaign_id  \\\n",
       "708     TS511179  XXXXXX   C01      F  2016-05-01 2018-04-30         CA1   \n",
       "729     TS443736    XXXX   C02      M  2016-05-01 2018-04-30         CA1   \n",
       "730     HD542886      XX   C01      M  2016-05-01 2018-04-30         CA1   \n",
       "770     HD597545   XXXXX   C03      F  2016-06-01 2018-05-31         CA1   \n",
       "785     HI749296   XXXXX   C01      M  2016-06-01 2018-05-31         CA1   \n",
       "...          ...     ...   ...    ...         ...        ...         ...   \n",
       "4049    OA143589   XXXXX   C03      F  2019-01-15 2019-02-28         CA1   \n",
       "4050    GD367382    XXXX   C01      M  2019-01-15 2019-03-31         CA1   \n",
       "4068    OA034442   XXXXX   C02      M  2019-02-05 2019-03-31         CA1   \n",
       "4086    PL508278   XXXXX   C03      M  2019-02-09 2019-03-31         CA1   \n",
       "4099    HD565792     XXX   C01      F  2019-02-11 2019-03-31         CA1   \n",
       "\n",
       "      is_deleted class_name  price campaign_name  mean  median  max  min  \\\n",
       "708            1     オールタイム  10500            通常   3.0     3.0    3    3   \n",
       "729            1      デイタイム   7500            通常   3.0     3.0    3    3   \n",
       "730            1     オールタイム  10500            通常   1.0     1.0    1    1   \n",
       "770            1        ナイト   6000            通常   3.5     3.5    4    3   \n",
       "785            1     オールタイム  10500            通常   3.0     3.0    3    3   \n",
       "...          ...        ...    ...           ...   ...     ...  ...  ...   \n",
       "4049           1        ナイト   6000            通常   4.5     4.5    6    3   \n",
       "4050           1     オールタイム  10500            通常   7.0     6.0   12    3   \n",
       "4068           1      デイタイム   7500            通常   7.0     7.0   11    3   \n",
       "4086           1        ナイト   6000            通常   7.0     7.0   10    4   \n",
       "4099           1     オールタイム  10500            通常   7.0     7.0    9    5   \n",
       "\n",
       "      routine_flg   calc_date  membership_period  exit_date      年月  \n",
       "708             0  2018-04-30                 23 2018-03-30  201803  \n",
       "729             0  2018-04-30                 23 2018-03-30  201803  \n",
       "730             0  2018-04-30                 23 2018-03-30  201803  \n",
       "770             1  2018-05-31                 23 2018-04-30  201804  \n",
       "785             0  2018-05-31                 23 2018-04-30  201804  \n",
       "...           ...         ...                ...        ...     ...  \n",
       "4049            0  2019-02-28                  1 2019-01-28  201901  \n",
       "4050            0  2019-03-31                  2 2019-02-28  201902  \n",
       "4068            0  2019-03-31                  1 2019-02-28  201902  \n",
       "4086            0  2019-03-31                  1 2019-02-28  201902  \n",
       "4099            0  2019-03-31                  1 2019-02-28  201902  \n",
       "\n",
       "[1350 rows x 20 columns]"
      ],
      "text/html": "<div>\n<style scoped>\n    .dataframe tbody tr th:only-of-type {\n        vertical-align: middle;\n    }\n\n    .dataframe tbody tr th {\n        vertical-align: top;\n    }\n\n    .dataframe thead th {\n        text-align: right;\n    }\n</style>\n<table border=\"1\" class=\"dataframe\">\n  <thead>\n    <tr style=\"text-align: right;\">\n      <th></th>\n      <th>customer_id</th>\n      <th>name</th>\n      <th>class</th>\n      <th>gender</th>\n      <th>start_date</th>\n      <th>end_date</th>\n      <th>campaign_id</th>\n      <th>is_deleted</th>\n      <th>class_name</th>\n      <th>price</th>\n      <th>campaign_name</th>\n      <th>mean</th>\n      <th>median</th>\n      <th>max</th>\n      <th>min</th>\n      <th>routine_flg</th>\n      <th>calc_date</th>\n      <th>membership_period</th>\n      <th>exit_date</th>\n      <th>年月</th>\n    </tr>\n  </thead>\n  <tbody>\n    <tr>\n      <th>708</th>\n      <td>TS511179</td>\n      <td>XXXXXX</td>\n      <td>C01</td>\n      <td>F</td>\n      <td>2016-05-01</td>\n      <td>2018-04-30</td>\n      <td>CA1</td>\n      <td>1</td>\n      <td>オールタイム</td>\n      <td>10500</td>\n      <td>通常</td>\n      <td>3.0</td>\n      <td>3.0</td>\n      <td>3</td>\n      <td>3</td>\n      <td>0</td>\n      <td>2018-04-30</td>\n      <td>23</td>\n      <td>2018-03-30</td>\n      <td>201803</td>\n    </tr>\n    <tr>\n      <th>729</th>\n      <td>TS443736</td>\n      <td>XXXX</td>\n      <td>C02</td>\n      <td>M</td>\n      <td>2016-05-01</td>\n      <td>2018-04-30</td>\n      <td>CA1</td>\n      <td>1</td>\n      <td>デイタイム</td>\n      <td>7500</td>\n      <td>通常</td>\n      <td>3.0</td>\n      <td>3.0</td>\n      <td>3</td>\n      <td>3</td>\n      <td>0</td>\n      <td>2018-04-30</td>\n      <td>23</td>\n      <td>2018-03-30</td>\n      <td>201803</td>\n    </tr>\n    <tr>\n      <th>730</th>\n      <td>HD542886</td>\n      <td>XX</td>\n      <td>C01</td>\n      <td>M</td>\n      <td>2016-05-01</td>\n      <td>2018-04-30</td>\n      <td>CA1</td>\n      <td>1</td>\n      <td>オールタイム</td>\n      <td>10500</td>\n      <td>通常</td>\n      <td>1.0</td>\n      <td>1.0</td>\n      <td>1</td>\n      <td>1</td>\n      <td>0</td>\n      <td>2018-04-30</td>\n      <td>23</td>\n      <td>2018-03-30</td>\n      <td>201803</td>\n    </tr>\n    <tr>\n      <th>770</th>\n      <td>HD597545</td>\n      <td>XXXXX</td>\n      <td>C03</td>\n      <td>F</td>\n      <td>2016-06-01</td>\n      <td>2018-05-31</td>\n      <td>CA1</td>\n      <td>1</td>\n      <td>ナイト</td>\n      <td>6000</td>\n      <td>通常</td>\n      <td>3.5</td>\n      <td>3.5</td>\n      <td>4</td>\n      <td>3</td>\n      <td>1</td>\n      <td>2018-05-31</td>\n      <td>23</td>\n      <td>2018-04-30</td>\n      <td>201804</td>\n    </tr>\n    <tr>\n      <th>785</th>\n      <td>HI749296</td>\n      <td>XXXXX</td>\n      <td>C01</td>\n      <td>M</td>\n      <td>2016-06-01</td>\n      <td>2018-05-31</td>\n      <td>CA1</td>\n      <td>1</td>\n      <td>オールタイム</td>\n      <td>10500</td>\n      <td>通常</td>\n      <td>3.0</td>\n      <td>3.0</td>\n      <td>3</td>\n      <td>3</td>\n      <td>0</td>\n      <td>2018-05-31</td>\n      <td>23</td>\n      <td>2018-04-30</td>\n      <td>201804</td>\n    </tr>\n    <tr>\n      <th>...</th>\n      <td>...</td>\n      <td>...</td>\n      <td>...</td>\n      <td>...</td>\n      <td>...</td>\n      <td>...</td>\n      <td>...</td>\n      <td>...</td>\n      <td>...</td>\n      <td>...</td>\n      <td>...</td>\n      <td>...</td>\n      <td>...</td>\n      <td>...</td>\n      <td>...</td>\n      <td>...</td>\n      <td>...</td>\n      <td>...</td>\n      <td>...</td>\n      <td>...</td>\n    </tr>\n    <tr>\n      <th>4049</th>\n      <td>OA143589</td>\n      <td>XXXXX</td>\n      <td>C03</td>\n      <td>F</td>\n      <td>2019-01-15</td>\n      <td>2019-02-28</td>\n      <td>CA1</td>\n      <td>1</td>\n      <td>ナイト</td>\n      <td>6000</td>\n      <td>通常</td>\n      <td>4.5</td>\n      <td>4.5</td>\n      <td>6</td>\n      <td>3</td>\n      <td>0</td>\n      <td>2019-02-28</td>\n      <td>1</td>\n      <td>2019-01-28</td>\n      <td>201901</td>\n    </tr>\n    <tr>\n      <th>4050</th>\n      <td>GD367382</td>\n      <td>XXXX</td>\n      <td>C01</td>\n      <td>M</td>\n      <td>2019-01-15</td>\n      <td>2019-03-31</td>\n      <td>CA1</td>\n      <td>1</td>\n      <td>オールタイム</td>\n      <td>10500</td>\n      <td>通常</td>\n      <td>7.0</td>\n      <td>6.0</td>\n      <td>12</td>\n      <td>3</td>\n      <td>0</td>\n      <td>2019-03-31</td>\n      <td>2</td>\n      <td>2019-02-28</td>\n      <td>201902</td>\n    </tr>\n    <tr>\n      <th>4068</th>\n      <td>OA034442</td>\n      <td>XXXXX</td>\n      <td>C02</td>\n      <td>M</td>\n      <td>2019-02-05</td>\n      <td>2019-03-31</td>\n      <td>CA1</td>\n      <td>1</td>\n      <td>デイタイム</td>\n      <td>7500</td>\n      <td>通常</td>\n      <td>7.0</td>\n      <td>7.0</td>\n      <td>11</td>\n      <td>3</td>\n      <td>0</td>\n      <td>2019-03-31</td>\n      <td>1</td>\n      <td>2019-02-28</td>\n      <td>201902</td>\n    </tr>\n    <tr>\n      <th>4086</th>\n      <td>PL508278</td>\n      <td>XXXXX</td>\n      <td>C03</td>\n      <td>M</td>\n      <td>2019-02-09</td>\n      <td>2019-03-31</td>\n      <td>CA1</td>\n      <td>1</td>\n      <td>ナイト</td>\n      <td>6000</td>\n      <td>通常</td>\n      <td>7.0</td>\n      <td>7.0</td>\n      <td>10</td>\n      <td>4</td>\n      <td>0</td>\n      <td>2019-03-31</td>\n      <td>1</td>\n      <td>2019-02-28</td>\n      <td>201902</td>\n    </tr>\n    <tr>\n      <th>4099</th>\n      <td>HD565792</td>\n      <td>XXX</td>\n      <td>C01</td>\n      <td>F</td>\n      <td>2019-02-11</td>\n      <td>2019-03-31</td>\n      <td>CA1</td>\n      <td>1</td>\n      <td>オールタイム</td>\n      <td>10500</td>\n      <td>通常</td>\n      <td>7.0</td>\n      <td>7.0</td>\n      <td>9</td>\n      <td>5</td>\n      <td>0</td>\n      <td>2019-03-31</td>\n      <td>1</td>\n      <td>2019-02-28</td>\n      <td>201902</td>\n    </tr>\n  </tbody>\n</table>\n<p>1350 rows × 20 columns</p>\n</div>"
     },
     "metadata": {},
     "execution_count": 80
    }
   ],
   "source": [
    "for i in range(len(exit_customer)):\n",
    "    exit_customer[\"exit_date\"].iloc[i] = exit_customer[\"end_date\"].iloc[i] - relativedelta(months=1)\n",
    "\n",
    "exit_customer[\"年月\"] = exit_customer[\"exit_date\"].dt.strftime(\"%Y%m\")\n",
    "uselog[\"年月\"] = uselog[\"年月\"].astype(str)\n",
    "exit_uselog = pd.merge(uselog, exit_customer, on=[\"customer_id\", \"年月\"], how=\"left\")\n",
    "len(uselog)\n",
    "exit_customer"
   ]
  },
  {
   "cell_type": "code",
   "execution_count": 81,
   "metadata": {},
   "outputs": [
    {
     "output_type": "execute_result",
     "data": {
      "text/plain": [
       "       年月 customer_id  count_0  count_1 name class gender start_date end_date  \\\n",
       "0  201805    AS002855        5      4.0  NaN   NaN    NaN        NaN      NaT   \n",
       "1  201805    AS009373        4      3.0  NaN   NaN    NaN        NaN      NaT   \n",
       "2  201805    AS015233        7      NaN  NaN   NaN    NaN        NaN      NaT   \n",
       "3  201805    AS015315        3      6.0  NaN   NaN    NaN        NaN      NaT   \n",
       "4  201805    AS015739        5      7.0  NaN   NaN    NaN        NaN      NaT   \n",
       "\n",
       "  campaign_id  ...  price campaign_name  mean median  max  min  routine_flg  \\\n",
       "0         NaN  ...    NaN           NaN   NaN    NaN  NaN  NaN          NaN   \n",
       "1         NaN  ...    NaN           NaN   NaN    NaN  NaN  NaN          NaN   \n",
       "2         NaN  ...    NaN           NaN   NaN    NaN  NaN  NaN          NaN   \n",
       "3         NaN  ...    NaN           NaN   NaN    NaN  NaN  NaN          NaN   \n",
       "4         NaN  ...    NaN           NaN   NaN    NaN  NaN  NaN          NaN   \n",
       "\n",
       "   calc_date  membership_period exit_date  \n",
       "0        NaN                NaN       NaT  \n",
       "1        NaN                NaN       NaT  \n",
       "2        NaN                NaN       NaT  \n",
       "3        NaN                NaN       NaT  \n",
       "4        NaN                NaN       NaT  \n",
       "\n",
       "[5 rows x 22 columns]"
      ],
      "text/html": "<div>\n<style scoped>\n    .dataframe tbody tr th:only-of-type {\n        vertical-align: middle;\n    }\n\n    .dataframe tbody tr th {\n        vertical-align: top;\n    }\n\n    .dataframe thead th {\n        text-align: right;\n    }\n</style>\n<table border=\"1\" class=\"dataframe\">\n  <thead>\n    <tr style=\"text-align: right;\">\n      <th></th>\n      <th>年月</th>\n      <th>customer_id</th>\n      <th>count_0</th>\n      <th>count_1</th>\n      <th>name</th>\n      <th>class</th>\n      <th>gender</th>\n      <th>start_date</th>\n      <th>end_date</th>\n      <th>campaign_id</th>\n      <th>...</th>\n      <th>price</th>\n      <th>campaign_name</th>\n      <th>mean</th>\n      <th>median</th>\n      <th>max</th>\n      <th>min</th>\n      <th>routine_flg</th>\n      <th>calc_date</th>\n      <th>membership_period</th>\n      <th>exit_date</th>\n    </tr>\n  </thead>\n  <tbody>\n    <tr>\n      <th>0</th>\n      <td>201805</td>\n      <td>AS002855</td>\n      <td>5</td>\n      <td>4.0</td>\n      <td>NaN</td>\n      <td>NaN</td>\n      <td>NaN</td>\n      <td>NaN</td>\n      <td>NaT</td>\n      <td>NaN</td>\n      <td>...</td>\n      <td>NaN</td>\n      <td>NaN</td>\n      <td>NaN</td>\n      <td>NaN</td>\n      <td>NaN</td>\n      <td>NaN</td>\n      <td>NaN</td>\n      <td>NaN</td>\n      <td>NaN</td>\n      <td>NaT</td>\n    </tr>\n    <tr>\n      <th>1</th>\n      <td>201805</td>\n      <td>AS009373</td>\n      <td>4</td>\n      <td>3.0</td>\n      <td>NaN</td>\n      <td>NaN</td>\n      <td>NaN</td>\n      <td>NaN</td>\n      <td>NaT</td>\n      <td>NaN</td>\n      <td>...</td>\n      <td>NaN</td>\n      <td>NaN</td>\n      <td>NaN</td>\n      <td>NaN</td>\n      <td>NaN</td>\n      <td>NaN</td>\n      <td>NaN</td>\n      <td>NaN</td>\n      <td>NaN</td>\n      <td>NaT</td>\n    </tr>\n    <tr>\n      <th>2</th>\n      <td>201805</td>\n      <td>AS015233</td>\n      <td>7</td>\n      <td>NaN</td>\n      <td>NaN</td>\n      <td>NaN</td>\n      <td>NaN</td>\n      <td>NaN</td>\n      <td>NaT</td>\n      <td>NaN</td>\n      <td>...</td>\n      <td>NaN</td>\n      <td>NaN</td>\n      <td>NaN</td>\n      <td>NaN</td>\n      <td>NaN</td>\n      <td>NaN</td>\n      <td>NaN</td>\n      <td>NaN</td>\n      <td>NaN</td>\n      <td>NaT</td>\n    </tr>\n    <tr>\n      <th>3</th>\n      <td>201805</td>\n      <td>AS015315</td>\n      <td>3</td>\n      <td>6.0</td>\n      <td>NaN</td>\n      <td>NaN</td>\n      <td>NaN</td>\n      <td>NaN</td>\n      <td>NaT</td>\n      <td>NaN</td>\n      <td>...</td>\n      <td>NaN</td>\n      <td>NaN</td>\n      <td>NaN</td>\n      <td>NaN</td>\n      <td>NaN</td>\n      <td>NaN</td>\n      <td>NaN</td>\n      <td>NaN</td>\n      <td>NaN</td>\n      <td>NaT</td>\n    </tr>\n    <tr>\n      <th>4</th>\n      <td>201805</td>\n      <td>AS015739</td>\n      <td>5</td>\n      <td>7.0</td>\n      <td>NaN</td>\n      <td>NaN</td>\n      <td>NaN</td>\n      <td>NaN</td>\n      <td>NaT</td>\n      <td>NaN</td>\n      <td>...</td>\n      <td>NaN</td>\n      <td>NaN</td>\n      <td>NaN</td>\n      <td>NaN</td>\n      <td>NaN</td>\n      <td>NaN</td>\n      <td>NaN</td>\n      <td>NaN</td>\n      <td>NaN</td>\n      <td>NaT</td>\n    </tr>\n  </tbody>\n</table>\n<p>5 rows × 22 columns</p>\n</div>"
     },
     "metadata": {},
     "execution_count": 81
    }
   ],
   "source": [
    "exit_uselog.head()"
   ]
  },
  {
   "cell_type": "code",
   "execution_count": 82,
   "metadata": {},
   "outputs": [
    {
     "output_type": "execute_result",
     "data": {
      "text/plain": [
       "           年月 customer_id  count_0  count_1    name class gender  start_date  \\\n",
       "19     201805    AS055680        3      3.0   XXXXX   C01      M  2018-03-01   \n",
       "57     201805    AS169823        2      3.0      XX   C01      M  2017-11-01   \n",
       "110    201805    AS305860        5      3.0    XXXX   C01      M  2017-06-01   \n",
       "128    201805    AS363699        5      3.0   XXXXX   C01      M  2018-02-01   \n",
       "147    201805    AS417696        1      4.0      XX   C03      F  2017-09-01   \n",
       "...       ...         ...      ...      ...     ...   ...    ...         ...   \n",
       "30758  201902    TS645212        4      2.0    XXXX   C03      F  2018-03-01   \n",
       "30787  201902    TS741703        5      6.0    XXXX   C03      M  2018-12-08   \n",
       "30827  201902    TS859258        1      3.0   XXXXX   C02      F  2018-12-07   \n",
       "30842  201902    TS886985        5      3.0     XXX   C02      F  2018-03-01   \n",
       "30852  201902    TS921837        2      3.0  XXXXXX   C01      M  2018-06-04   \n",
       "\n",
       "        end_date campaign_id  ...    price campaign_name      mean median  \\\n",
       "19    2018-06-30         CA1  ...  10500.0            通常  3.000000    3.0   \n",
       "57    2018-06-30         CA1  ...  10500.0            通常  3.000000    3.0   \n",
       "110   2018-06-30         CA1  ...  10500.0            通常  3.333333    3.0   \n",
       "128   2018-06-30         CA1  ...  10500.0            通常  3.333333    3.0   \n",
       "147   2018-06-30         CA1  ...   6000.0            通常  2.000000    1.0   \n",
       "...          ...         ...  ...      ...           ...       ...    ...   \n",
       "30758 2019-03-31         CA1  ...   6000.0            通常  4.500000    4.5   \n",
       "30787 2019-03-31         CA3  ...   6000.0         入会費無料  6.250000    6.0   \n",
       "30827 2019-03-31         CA3  ...   7500.0         入会費無料  2.500000    2.0   \n",
       "30842 2019-03-31         CA1  ...   7500.0            通常  4.250000    4.0   \n",
       "30852 2019-03-31         CA2  ...  10500.0         入会費半額  4.000000    3.5   \n",
       "\n",
       "       max  min  routine_flg   calc_date  membership_period  exit_date  \n",
       "19     3.0  3.0          0.0  2018-06-30                3.0 2018-05-30  \n",
       "57     4.0  2.0          1.0  2018-06-30                7.0 2018-05-30  \n",
       "110    5.0  2.0          0.0  2018-06-30               12.0 2018-05-30  \n",
       "128    5.0  2.0          0.0  2018-06-30                4.0 2018-05-30  \n",
       "147    4.0  1.0          0.0  2018-06-30                9.0 2018-05-30  \n",
       "...    ...  ...          ...         ...                ...        ...  \n",
       "30758  7.0  1.0          0.0  2019-03-31               12.0 2019-02-28  \n",
       "30787  8.0  5.0          0.0  2019-03-31                3.0 2019-02-28  \n",
       "30827  5.0  1.0          0.0  2019-03-31                3.0 2019-02-28  \n",
       "30842  7.0  2.0          1.0  2019-03-31               12.0 2019-02-28  \n",
       "30852  9.0  2.0          1.0  2019-03-31                9.0 2019-02-28  \n",
       "\n",
       "[1104 rows x 22 columns]"
      ],
      "text/html": "<div>\n<style scoped>\n    .dataframe tbody tr th:only-of-type {\n        vertical-align: middle;\n    }\n\n    .dataframe tbody tr th {\n        vertical-align: top;\n    }\n\n    .dataframe thead th {\n        text-align: right;\n    }\n</style>\n<table border=\"1\" class=\"dataframe\">\n  <thead>\n    <tr style=\"text-align: right;\">\n      <th></th>\n      <th>年月</th>\n      <th>customer_id</th>\n      <th>count_0</th>\n      <th>count_1</th>\n      <th>name</th>\n      <th>class</th>\n      <th>gender</th>\n      <th>start_date</th>\n      <th>end_date</th>\n      <th>campaign_id</th>\n      <th>...</th>\n      <th>price</th>\n      <th>campaign_name</th>\n      <th>mean</th>\n      <th>median</th>\n      <th>max</th>\n      <th>min</th>\n      <th>routine_flg</th>\n      <th>calc_date</th>\n      <th>membership_period</th>\n      <th>exit_date</th>\n    </tr>\n  </thead>\n  <tbody>\n    <tr>\n      <th>19</th>\n      <td>201805</td>\n      <td>AS055680</td>\n      <td>3</td>\n      <td>3.0</td>\n      <td>XXXXX</td>\n      <td>C01</td>\n      <td>M</td>\n      <td>2018-03-01</td>\n      <td>2018-06-30</td>\n      <td>CA1</td>\n      <td>...</td>\n      <td>10500.0</td>\n      <td>通常</td>\n      <td>3.000000</td>\n      <td>3.0</td>\n      <td>3.0</td>\n      <td>3.0</td>\n      <td>0.0</td>\n      <td>2018-06-30</td>\n      <td>3.0</td>\n      <td>2018-05-30</td>\n    </tr>\n    <tr>\n      <th>57</th>\n      <td>201805</td>\n      <td>AS169823</td>\n      <td>2</td>\n      <td>3.0</td>\n      <td>XX</td>\n      <td>C01</td>\n      <td>M</td>\n      <td>2017-11-01</td>\n      <td>2018-06-30</td>\n      <td>CA1</td>\n      <td>...</td>\n      <td>10500.0</td>\n      <td>通常</td>\n      <td>3.000000</td>\n      <td>3.0</td>\n      <td>4.0</td>\n      <td>2.0</td>\n      <td>1.0</td>\n      <td>2018-06-30</td>\n      <td>7.0</td>\n      <td>2018-05-30</td>\n    </tr>\n    <tr>\n      <th>110</th>\n      <td>201805</td>\n      <td>AS305860</td>\n      <td>5</td>\n      <td>3.0</td>\n      <td>XXXX</td>\n      <td>C01</td>\n      <td>M</td>\n      <td>2017-06-01</td>\n      <td>2018-06-30</td>\n      <td>CA1</td>\n      <td>...</td>\n      <td>10500.0</td>\n      <td>通常</td>\n      <td>3.333333</td>\n      <td>3.0</td>\n      <td>5.0</td>\n      <td>2.0</td>\n      <td>0.0</td>\n      <td>2018-06-30</td>\n      <td>12.0</td>\n      <td>2018-05-30</td>\n    </tr>\n    <tr>\n      <th>128</th>\n      <td>201805</td>\n      <td>AS363699</td>\n      <td>5</td>\n      <td>3.0</td>\n      <td>XXXXX</td>\n      <td>C01</td>\n      <td>M</td>\n      <td>2018-02-01</td>\n      <td>2018-06-30</td>\n      <td>CA1</td>\n      <td>...</td>\n      <td>10500.0</td>\n      <td>通常</td>\n      <td>3.333333</td>\n      <td>3.0</td>\n      <td>5.0</td>\n      <td>2.0</td>\n      <td>0.0</td>\n      <td>2018-06-30</td>\n      <td>4.0</td>\n      <td>2018-05-30</td>\n    </tr>\n    <tr>\n      <th>147</th>\n      <td>201805</td>\n      <td>AS417696</td>\n      <td>1</td>\n      <td>4.0</td>\n      <td>XX</td>\n      <td>C03</td>\n      <td>F</td>\n      <td>2017-09-01</td>\n      <td>2018-06-30</td>\n      <td>CA1</td>\n      <td>...</td>\n      <td>6000.0</td>\n      <td>通常</td>\n      <td>2.000000</td>\n      <td>1.0</td>\n      <td>4.0</td>\n      <td>1.0</td>\n      <td>0.0</td>\n      <td>2018-06-30</td>\n      <td>9.0</td>\n      <td>2018-05-30</td>\n    </tr>\n    <tr>\n      <th>...</th>\n      <td>...</td>\n      <td>...</td>\n      <td>...</td>\n      <td>...</td>\n      <td>...</td>\n      <td>...</td>\n      <td>...</td>\n      <td>...</td>\n      <td>...</td>\n      <td>...</td>\n      <td>...</td>\n      <td>...</td>\n      <td>...</td>\n      <td>...</td>\n      <td>...</td>\n      <td>...</td>\n      <td>...</td>\n      <td>...</td>\n      <td>...</td>\n      <td>...</td>\n      <td>...</td>\n    </tr>\n    <tr>\n      <th>30758</th>\n      <td>201902</td>\n      <td>TS645212</td>\n      <td>4</td>\n      <td>2.0</td>\n      <td>XXXX</td>\n      <td>C03</td>\n      <td>F</td>\n      <td>2018-03-01</td>\n      <td>2019-03-31</td>\n      <td>CA1</td>\n      <td>...</td>\n      <td>6000.0</td>\n      <td>通常</td>\n      <td>4.500000</td>\n      <td>4.5</td>\n      <td>7.0</td>\n      <td>1.0</td>\n      <td>0.0</td>\n      <td>2019-03-31</td>\n      <td>12.0</td>\n      <td>2019-02-28</td>\n    </tr>\n    <tr>\n      <th>30787</th>\n      <td>201902</td>\n      <td>TS741703</td>\n      <td>5</td>\n      <td>6.0</td>\n      <td>XXXX</td>\n      <td>C03</td>\n      <td>M</td>\n      <td>2018-12-08</td>\n      <td>2019-03-31</td>\n      <td>CA3</td>\n      <td>...</td>\n      <td>6000.0</td>\n      <td>入会費無料</td>\n      <td>6.250000</td>\n      <td>6.0</td>\n      <td>8.0</td>\n      <td>5.0</td>\n      <td>0.0</td>\n      <td>2019-03-31</td>\n      <td>3.0</td>\n      <td>2019-02-28</td>\n    </tr>\n    <tr>\n      <th>30827</th>\n      <td>201902</td>\n      <td>TS859258</td>\n      <td>1</td>\n      <td>3.0</td>\n      <td>XXXXX</td>\n      <td>C02</td>\n      <td>F</td>\n      <td>2018-12-07</td>\n      <td>2019-03-31</td>\n      <td>CA3</td>\n      <td>...</td>\n      <td>7500.0</td>\n      <td>入会費無料</td>\n      <td>2.500000</td>\n      <td>2.0</td>\n      <td>5.0</td>\n      <td>1.0</td>\n      <td>0.0</td>\n      <td>2019-03-31</td>\n      <td>3.0</td>\n      <td>2019-02-28</td>\n    </tr>\n    <tr>\n      <th>30842</th>\n      <td>201902</td>\n      <td>TS886985</td>\n      <td>5</td>\n      <td>3.0</td>\n      <td>XXX</td>\n      <td>C02</td>\n      <td>F</td>\n      <td>2018-03-01</td>\n      <td>2019-03-31</td>\n      <td>CA1</td>\n      <td>...</td>\n      <td>7500.0</td>\n      <td>通常</td>\n      <td>4.250000</td>\n      <td>4.0</td>\n      <td>7.0</td>\n      <td>2.0</td>\n      <td>1.0</td>\n      <td>2019-03-31</td>\n      <td>12.0</td>\n      <td>2019-02-28</td>\n    </tr>\n    <tr>\n      <th>30852</th>\n      <td>201902</td>\n      <td>TS921837</td>\n      <td>2</td>\n      <td>3.0</td>\n      <td>XXXXXX</td>\n      <td>C01</td>\n      <td>M</td>\n      <td>2018-06-04</td>\n      <td>2019-03-31</td>\n      <td>CA2</td>\n      <td>...</td>\n      <td>10500.0</td>\n      <td>入会費半額</td>\n      <td>4.000000</td>\n      <td>3.5</td>\n      <td>9.0</td>\n      <td>2.0</td>\n      <td>1.0</td>\n      <td>2019-03-31</td>\n      <td>9.0</td>\n      <td>2019-02-28</td>\n    </tr>\n  </tbody>\n</table>\n<p>1104 rows × 22 columns</p>\n</div>"
     },
     "metadata": {},
     "execution_count": 82
    }
   ],
   "source": [
    "exit_uselog = exit_uselog.dropna(subset=[\"name\"])\n",
    "exit_uselog"
   ]
  },
  {
   "cell_type": "code",
   "execution_count": 83,
   "metadata": {},
   "outputs": [
    {
     "output_type": "execute_result",
     "data": {
      "text/plain": [
       "1104"
      ]
     },
     "metadata": {},
     "execution_count": 83
    }
   ],
   "source": [
    "len(exit_uselog)"
   ]
  },
  {
   "cell_type": "code",
   "execution_count": 84,
   "metadata": {},
   "outputs": [
    {
     "output_type": "execute_result",
     "data": {
      "text/plain": [
       "1104"
      ]
     },
     "metadata": {},
     "execution_count": 84
    }
   ],
   "source": [
    "len(exit_uselog['customer_id'].unique())"
   ]
  },
  {
   "cell_type": "markdown",
   "metadata": {},
   "source": [
    "### ノック43：継続顧客のデータを作成しよう"
   ]
  },
  {
   "cell_type": "code",
   "execution_count": 85,
   "metadata": {},
   "outputs": [
    {
     "output_type": "execute_result",
     "data": {
      "text/plain": [
       "33851"
      ]
     },
     "metadata": {},
     "execution_count": 85
    }
   ],
   "source": [
    "conti_customer = customer.loc[customer['is_deleted']==0]\n",
    "conti_uselog = pd.merge(uselog,conti_customer,on=['customer_id'],how='left')\n",
    "len(conti_uselog)"
   ]
  },
  {
   "cell_type": "code",
   "execution_count": 86,
   "metadata": {},
   "outputs": [
    {
     "output_type": "execute_result",
     "data": {
      "text/plain": [
       "27422"
      ]
     },
     "metadata": {},
     "execution_count": 86
    }
   ],
   "source": [
    "conti_uselog = conti_uselog.dropna(subset=['name'])\n",
    "len(conti_uselog)"
   ]
  },
  {
   "cell_type": "code",
   "execution_count": 87,
   "metadata": {},
   "outputs": [
    {
     "output_type": "execute_result",
     "data": {
      "text/plain": [
       "       年月 customer_id  count_0  count_1   name class gender  start_date  \\\n",
       "0  201810    TS007439        6      8.0    XXX   C03      M  2017-03-01   \n",
       "1  201806    GD866704        5      6.0     XX   C03      F  2017-04-01   \n",
       "2  201809    AS058623        6      3.0  XXXXX   C01      F  2015-05-01   \n",
       "3  201811    HI570349        4      5.0  XXXXX   C01      F  2015-05-01   \n",
       "4  201811    GD381952        5      6.0    XXX   C02      F  2017-08-01   \n",
       "\n",
       "  end_date campaign_id  ...  class_name    price  campaign_name      mean  \\\n",
       "0      NaN         CA1  ...         ナイト   6000.0             通常  6.166667   \n",
       "1      NaN         CA1  ...         ナイト   6000.0             通常  4.750000   \n",
       "2      NaN         CA1  ...      オールタイム  10500.0             通常  4.500000   \n",
       "3      NaN         CA1  ...      オールタイム  10500.0             通常  4.916667   \n",
       "4      NaN         CA2  ...       デイタイム   7500.0          入会費半額  5.916667   \n",
       "\n",
       "   median  max  min  routine_flg   calc_date membership_period  \n",
       "0     6.0  8.0  5.0          1.0  2019-04-30              25.0  \n",
       "1     5.0  7.0  1.0          1.0  2019-04-30              24.0  \n",
       "2     5.0  6.0  3.0          1.0  2019-04-30              47.0  \n",
       "3     5.0  7.0  2.0          1.0  2019-04-30              47.0  \n",
       "4     6.0  8.0  4.0          1.0  2019-04-30              20.0  \n",
       "\n",
       "[5 rows x 21 columns]"
      ],
      "text/html": "<div>\n<style scoped>\n    .dataframe tbody tr th:only-of-type {\n        vertical-align: middle;\n    }\n\n    .dataframe tbody tr th {\n        vertical-align: top;\n    }\n\n    .dataframe thead th {\n        text-align: right;\n    }\n</style>\n<table border=\"1\" class=\"dataframe\">\n  <thead>\n    <tr style=\"text-align: right;\">\n      <th></th>\n      <th>年月</th>\n      <th>customer_id</th>\n      <th>count_0</th>\n      <th>count_1</th>\n      <th>name</th>\n      <th>class</th>\n      <th>gender</th>\n      <th>start_date</th>\n      <th>end_date</th>\n      <th>campaign_id</th>\n      <th>...</th>\n      <th>class_name</th>\n      <th>price</th>\n      <th>campaign_name</th>\n      <th>mean</th>\n      <th>median</th>\n      <th>max</th>\n      <th>min</th>\n      <th>routine_flg</th>\n      <th>calc_date</th>\n      <th>membership_period</th>\n    </tr>\n  </thead>\n  <tbody>\n    <tr>\n      <th>0</th>\n      <td>201810</td>\n      <td>TS007439</td>\n      <td>6</td>\n      <td>8.0</td>\n      <td>XXX</td>\n      <td>C03</td>\n      <td>M</td>\n      <td>2017-03-01</td>\n      <td>NaN</td>\n      <td>CA1</td>\n      <td>...</td>\n      <td>ナイト</td>\n      <td>6000.0</td>\n      <td>通常</td>\n      <td>6.166667</td>\n      <td>6.0</td>\n      <td>8.0</td>\n      <td>5.0</td>\n      <td>1.0</td>\n      <td>2019-04-30</td>\n      <td>25.0</td>\n    </tr>\n    <tr>\n      <th>1</th>\n      <td>201806</td>\n      <td>GD866704</td>\n      <td>5</td>\n      <td>6.0</td>\n      <td>XX</td>\n      <td>C03</td>\n      <td>F</td>\n      <td>2017-04-01</td>\n      <td>NaN</td>\n      <td>CA1</td>\n      <td>...</td>\n      <td>ナイト</td>\n      <td>6000.0</td>\n      <td>通常</td>\n      <td>4.750000</td>\n      <td>5.0</td>\n      <td>7.0</td>\n      <td>1.0</td>\n      <td>1.0</td>\n      <td>2019-04-30</td>\n      <td>24.0</td>\n    </tr>\n    <tr>\n      <th>2</th>\n      <td>201809</td>\n      <td>AS058623</td>\n      <td>6</td>\n      <td>3.0</td>\n      <td>XXXXX</td>\n      <td>C01</td>\n      <td>F</td>\n      <td>2015-05-01</td>\n      <td>NaN</td>\n      <td>CA1</td>\n      <td>...</td>\n      <td>オールタイム</td>\n      <td>10500.0</td>\n      <td>通常</td>\n      <td>4.500000</td>\n      <td>5.0</td>\n      <td>6.0</td>\n      <td>3.0</td>\n      <td>1.0</td>\n      <td>2019-04-30</td>\n      <td>47.0</td>\n    </tr>\n    <tr>\n      <th>3</th>\n      <td>201811</td>\n      <td>HI570349</td>\n      <td>4</td>\n      <td>5.0</td>\n      <td>XXXXX</td>\n      <td>C01</td>\n      <td>F</td>\n      <td>2015-05-01</td>\n      <td>NaN</td>\n      <td>CA1</td>\n      <td>...</td>\n      <td>オールタイム</td>\n      <td>10500.0</td>\n      <td>通常</td>\n      <td>4.916667</td>\n      <td>5.0</td>\n      <td>7.0</td>\n      <td>2.0</td>\n      <td>1.0</td>\n      <td>2019-04-30</td>\n      <td>47.0</td>\n    </tr>\n    <tr>\n      <th>4</th>\n      <td>201811</td>\n      <td>GD381952</td>\n      <td>5</td>\n      <td>6.0</td>\n      <td>XXX</td>\n      <td>C02</td>\n      <td>F</td>\n      <td>2017-08-01</td>\n      <td>NaN</td>\n      <td>CA2</td>\n      <td>...</td>\n      <td>デイタイム</td>\n      <td>7500.0</td>\n      <td>入会費半額</td>\n      <td>5.916667</td>\n      <td>6.0</td>\n      <td>8.0</td>\n      <td>4.0</td>\n      <td>1.0</td>\n      <td>2019-04-30</td>\n      <td>20.0</td>\n    </tr>\n  </tbody>\n</table>\n<p>5 rows × 21 columns</p>\n</div>"
     },
     "metadata": {},
     "execution_count": 87
    }
   ],
   "source": [
    "#退会データは1104件、継続顧客のデータは数ヶ月にわたって重複している。データをシャッフルして重複を削除する\n",
    "conti_uselog = conti_uselog.sample(frac=1).reset_index(drop=True)\n",
    "conti_uselog = conti_uselog.drop_duplicates(subset='customer_id')\n",
    "conti_uselog.head()\n",
    "\n",
    "#https://note.nkmk.me/python-pandas-sample/\n",
    "#https://note.nkmk.me/python-pandas-reset-index/"
   ]
  },
  {
   "cell_type": "code",
   "execution_count": 88,
   "metadata": {},
   "outputs": [
    {
     "output_type": "execute_result",
     "data": {
      "text/plain": [
       "2842"
      ]
     },
     "metadata": {},
     "execution_count": 88
    }
   ],
   "source": [
    "len(conti_uselog)"
   ]
  },
  {
   "cell_type": "code",
   "execution_count": 89,
   "metadata": {},
   "outputs": [
    {
     "output_type": "execute_result",
     "data": {
      "text/plain": [
       "       年月 customer_id  count_0  count_1   name class gender  start_date  \\\n",
       "0  201810    TS007439        6      8.0    XXX   C03      M  2017-03-01   \n",
       "1  201806    GD866704        5      6.0     XX   C03      F  2017-04-01   \n",
       "2  201809    AS058623        6      3.0  XXXXX   C01      F  2015-05-01   \n",
       "3  201811    HI570349        4      5.0  XXXXX   C01      F  2015-05-01   \n",
       "4  201811    GD381952        5      6.0    XXX   C02      F  2017-08-01   \n",
       "\n",
       "  end_date campaign_id  ...    price campaign_name      mean median  max  min  \\\n",
       "0      NaN         CA1  ...   6000.0            通常  6.166667    6.0  8.0  5.0   \n",
       "1      NaN         CA1  ...   6000.0            通常  4.750000    5.0  7.0  1.0   \n",
       "2      NaN         CA1  ...  10500.0            通常  4.500000    5.0  6.0  3.0   \n",
       "3      NaN         CA1  ...  10500.0            通常  4.916667    5.0  7.0  2.0   \n",
       "4      NaN         CA2  ...   7500.0         入会費半額  5.916667    6.0  8.0  4.0   \n",
       "\n",
       "   routine_flg   calc_date  membership_period exit_date  \n",
       "0          1.0  2019-04-30               25.0       NaT  \n",
       "1          1.0  2019-04-30               24.0       NaT  \n",
       "2          1.0  2019-04-30               47.0       NaT  \n",
       "3          1.0  2019-04-30               47.0       NaT  \n",
       "4          1.0  2019-04-30               20.0       NaT  \n",
       "\n",
       "[5 rows x 22 columns]"
      ],
      "text/html": "<div>\n<style scoped>\n    .dataframe tbody tr th:only-of-type {\n        vertical-align: middle;\n    }\n\n    .dataframe tbody tr th {\n        vertical-align: top;\n    }\n\n    .dataframe thead th {\n        text-align: right;\n    }\n</style>\n<table border=\"1\" class=\"dataframe\">\n  <thead>\n    <tr style=\"text-align: right;\">\n      <th></th>\n      <th>年月</th>\n      <th>customer_id</th>\n      <th>count_0</th>\n      <th>count_1</th>\n      <th>name</th>\n      <th>class</th>\n      <th>gender</th>\n      <th>start_date</th>\n      <th>end_date</th>\n      <th>campaign_id</th>\n      <th>...</th>\n      <th>price</th>\n      <th>campaign_name</th>\n      <th>mean</th>\n      <th>median</th>\n      <th>max</th>\n      <th>min</th>\n      <th>routine_flg</th>\n      <th>calc_date</th>\n      <th>membership_period</th>\n      <th>exit_date</th>\n    </tr>\n  </thead>\n  <tbody>\n    <tr>\n      <th>0</th>\n      <td>201810</td>\n      <td>TS007439</td>\n      <td>6</td>\n      <td>8.0</td>\n      <td>XXX</td>\n      <td>C03</td>\n      <td>M</td>\n      <td>2017-03-01</td>\n      <td>NaN</td>\n      <td>CA1</td>\n      <td>...</td>\n      <td>6000.0</td>\n      <td>通常</td>\n      <td>6.166667</td>\n      <td>6.0</td>\n      <td>8.0</td>\n      <td>5.0</td>\n      <td>1.0</td>\n      <td>2019-04-30</td>\n      <td>25.0</td>\n      <td>NaT</td>\n    </tr>\n    <tr>\n      <th>1</th>\n      <td>201806</td>\n      <td>GD866704</td>\n      <td>5</td>\n      <td>6.0</td>\n      <td>XX</td>\n      <td>C03</td>\n      <td>F</td>\n      <td>2017-04-01</td>\n      <td>NaN</td>\n      <td>CA1</td>\n      <td>...</td>\n      <td>6000.0</td>\n      <td>通常</td>\n      <td>4.750000</td>\n      <td>5.0</td>\n      <td>7.0</td>\n      <td>1.0</td>\n      <td>1.0</td>\n      <td>2019-04-30</td>\n      <td>24.0</td>\n      <td>NaT</td>\n    </tr>\n    <tr>\n      <th>2</th>\n      <td>201809</td>\n      <td>AS058623</td>\n      <td>6</td>\n      <td>3.0</td>\n      <td>XXXXX</td>\n      <td>C01</td>\n      <td>F</td>\n      <td>2015-05-01</td>\n      <td>NaN</td>\n      <td>CA1</td>\n      <td>...</td>\n      <td>10500.0</td>\n      <td>通常</td>\n      <td>4.500000</td>\n      <td>5.0</td>\n      <td>6.0</td>\n      <td>3.0</td>\n      <td>1.0</td>\n      <td>2019-04-30</td>\n      <td>47.0</td>\n      <td>NaT</td>\n    </tr>\n    <tr>\n      <th>3</th>\n      <td>201811</td>\n      <td>HI570349</td>\n      <td>4</td>\n      <td>5.0</td>\n      <td>XXXXX</td>\n      <td>C01</td>\n      <td>F</td>\n      <td>2015-05-01</td>\n      <td>NaN</td>\n      <td>CA1</td>\n      <td>...</td>\n      <td>10500.0</td>\n      <td>通常</td>\n      <td>4.916667</td>\n      <td>5.0</td>\n      <td>7.0</td>\n      <td>2.0</td>\n      <td>1.0</td>\n      <td>2019-04-30</td>\n      <td>47.0</td>\n      <td>NaT</td>\n    </tr>\n    <tr>\n      <th>4</th>\n      <td>201811</td>\n      <td>GD381952</td>\n      <td>5</td>\n      <td>6.0</td>\n      <td>XXX</td>\n      <td>C02</td>\n      <td>F</td>\n      <td>2017-08-01</td>\n      <td>NaN</td>\n      <td>CA2</td>\n      <td>...</td>\n      <td>7500.0</td>\n      <td>入会費半額</td>\n      <td>5.916667</td>\n      <td>6.0</td>\n      <td>8.0</td>\n      <td>4.0</td>\n      <td>1.0</td>\n      <td>2019-04-30</td>\n      <td>20.0</td>\n      <td>NaT</td>\n    </tr>\n  </tbody>\n</table>\n<p>5 rows × 22 columns</p>\n</div>"
     },
     "metadata": {},
     "execution_count": 89
    }
   ],
   "source": [
    "#継続顧客、退会顧客のデータを縦に結合 \n",
    "predict_data = pd.concat([conti_uselog,exit_uselog],ignore_index=True)\n",
    "predict_data.head()"
   ]
  },
  {
   "source": [
    "<img src=\"2021-02-21 6.15.01.png\">\n"
   ],
   "cell_type": "markdown",
   "metadata": {}
  },
  {
   "cell_type": "code",
   "execution_count": 90,
   "metadata": {},
   "outputs": [
    {
     "output_type": "execute_result",
     "data": {
      "text/plain": [
       "3946"
      ]
     },
     "metadata": {},
     "execution_count": 90
    }
   ],
   "source": [
    "len(predict_data)"
   ]
  },
  {
   "cell_type": "markdown",
   "metadata": {},
   "source": [
    "### ノック44：予測する月の在籍期間を作成しよう"
   ]
  },
  {
   "cell_type": "code",
   "execution_count": 91,
   "metadata": {},
   "outputs": [
    {
     "output_type": "execute_result",
     "data": {
      "text/plain": [
       "       年月 customer_id  count_0  count_1   name class gender start_date  \\\n",
       "0  201810    TS007439        6      8.0    XXX   C03      M 2017-03-01   \n",
       "1  201806    GD866704        5      6.0     XX   C03      F 2017-04-01   \n",
       "2  201809    AS058623        6      3.0  XXXXX   C01      F 2015-05-01   \n",
       "3  201811    HI570349        4      5.0  XXXXX   C01      F 2015-05-01   \n",
       "4  201811    GD381952        5      6.0    XXX   C02      F 2017-08-01   \n",
       "\n",
       "  end_date campaign_id  ...      mean median  max  min  routine_flg  \\\n",
       "0      NaN         CA1  ...  6.166667    6.0  8.0  5.0          1.0   \n",
       "1      NaN         CA1  ...  4.750000    5.0  7.0  1.0          1.0   \n",
       "2      NaN         CA1  ...  4.500000    5.0  6.0  3.0          1.0   \n",
       "3      NaN         CA1  ...  4.916667    5.0  7.0  2.0          1.0   \n",
       "4      NaN         CA2  ...  5.916667    6.0  8.0  4.0          1.0   \n",
       "\n",
       "    calc_date  membership_period  exit_date  period   now_date  \n",
       "0  2019-04-30               25.0        NaT      19 2018-10-01  \n",
       "1  2019-04-30               24.0        NaT      14 2018-06-01  \n",
       "2  2019-04-30               47.0        NaT      40 2018-09-01  \n",
       "3  2019-04-30               47.0        NaT      42 2018-11-01  \n",
       "4  2019-04-30               20.0        NaT      15 2018-11-01  \n",
       "\n",
       "[5 rows x 24 columns]"
      ],
      "text/html": "<div>\n<style scoped>\n    .dataframe tbody tr th:only-of-type {\n        vertical-align: middle;\n    }\n\n    .dataframe tbody tr th {\n        vertical-align: top;\n    }\n\n    .dataframe thead th {\n        text-align: right;\n    }\n</style>\n<table border=\"1\" class=\"dataframe\">\n  <thead>\n    <tr style=\"text-align: right;\">\n      <th></th>\n      <th>年月</th>\n      <th>customer_id</th>\n      <th>count_0</th>\n      <th>count_1</th>\n      <th>name</th>\n      <th>class</th>\n      <th>gender</th>\n      <th>start_date</th>\n      <th>end_date</th>\n      <th>campaign_id</th>\n      <th>...</th>\n      <th>mean</th>\n      <th>median</th>\n      <th>max</th>\n      <th>min</th>\n      <th>routine_flg</th>\n      <th>calc_date</th>\n      <th>membership_period</th>\n      <th>exit_date</th>\n      <th>period</th>\n      <th>now_date</th>\n    </tr>\n  </thead>\n  <tbody>\n    <tr>\n      <th>0</th>\n      <td>201810</td>\n      <td>TS007439</td>\n      <td>6</td>\n      <td>8.0</td>\n      <td>XXX</td>\n      <td>C03</td>\n      <td>M</td>\n      <td>2017-03-01</td>\n      <td>NaN</td>\n      <td>CA1</td>\n      <td>...</td>\n      <td>6.166667</td>\n      <td>6.0</td>\n      <td>8.0</td>\n      <td>5.0</td>\n      <td>1.0</td>\n      <td>2019-04-30</td>\n      <td>25.0</td>\n      <td>NaT</td>\n      <td>19</td>\n      <td>2018-10-01</td>\n    </tr>\n    <tr>\n      <th>1</th>\n      <td>201806</td>\n      <td>GD866704</td>\n      <td>5</td>\n      <td>6.0</td>\n      <td>XX</td>\n      <td>C03</td>\n      <td>F</td>\n      <td>2017-04-01</td>\n      <td>NaN</td>\n      <td>CA1</td>\n      <td>...</td>\n      <td>4.750000</td>\n      <td>5.0</td>\n      <td>7.0</td>\n      <td>1.0</td>\n      <td>1.0</td>\n      <td>2019-04-30</td>\n      <td>24.0</td>\n      <td>NaT</td>\n      <td>14</td>\n      <td>2018-06-01</td>\n    </tr>\n    <tr>\n      <th>2</th>\n      <td>201809</td>\n      <td>AS058623</td>\n      <td>6</td>\n      <td>3.0</td>\n      <td>XXXXX</td>\n      <td>C01</td>\n      <td>F</td>\n      <td>2015-05-01</td>\n      <td>NaN</td>\n      <td>CA1</td>\n      <td>...</td>\n      <td>4.500000</td>\n      <td>5.0</td>\n      <td>6.0</td>\n      <td>3.0</td>\n      <td>1.0</td>\n      <td>2019-04-30</td>\n      <td>47.0</td>\n      <td>NaT</td>\n      <td>40</td>\n      <td>2018-09-01</td>\n    </tr>\n    <tr>\n      <th>3</th>\n      <td>201811</td>\n      <td>HI570349</td>\n      <td>4</td>\n      <td>5.0</td>\n      <td>XXXXX</td>\n      <td>C01</td>\n      <td>F</td>\n      <td>2015-05-01</td>\n      <td>NaN</td>\n      <td>CA1</td>\n      <td>...</td>\n      <td>4.916667</td>\n      <td>5.0</td>\n      <td>7.0</td>\n      <td>2.0</td>\n      <td>1.0</td>\n      <td>2019-04-30</td>\n      <td>47.0</td>\n      <td>NaT</td>\n      <td>42</td>\n      <td>2018-11-01</td>\n    </tr>\n    <tr>\n      <th>4</th>\n      <td>201811</td>\n      <td>GD381952</td>\n      <td>5</td>\n      <td>6.0</td>\n      <td>XXX</td>\n      <td>C02</td>\n      <td>F</td>\n      <td>2017-08-01</td>\n      <td>NaN</td>\n      <td>CA2</td>\n      <td>...</td>\n      <td>5.916667</td>\n      <td>6.0</td>\n      <td>8.0</td>\n      <td>4.0</td>\n      <td>1.0</td>\n      <td>2019-04-30</td>\n      <td>20.0</td>\n      <td>NaT</td>\n      <td>15</td>\n      <td>2018-11-01</td>\n    </tr>\n  </tbody>\n</table>\n<p>5 rows × 24 columns</p>\n</div>"
     },
     "metadata": {},
     "execution_count": 91
    }
   ],
   "source": [
    "#在籍期間の列(period)を追加する now_dateに（年月）を入れて差を計算\n",
    "predict_data['period'] = 0\n",
    "predict_data['now_date'] = pd.to_datetime(predict_data['年月'],format='%Y%m')\n",
    "predict_data['start_date'] = pd.to_datetime(predict_data['start_date'])\n",
    "\n",
    "for i in range(len(predict_data)):\n",
    "    delta = relativedelta(predict_data['now_date'][i],predict_data['start_date'][i])\n",
    "    predict_data['period'][i] = int(delta.years*12 + delta.months)\n",
    "predict_data.head()"
   ]
  },
  {
   "cell_type": "markdown",
   "metadata": {},
   "source": [
    "### ノック45：欠損値を除去しよう"
   ]
  },
  {
   "cell_type": "code",
   "execution_count": 92,
   "metadata": {},
   "outputs": [
    {
     "output_type": "execute_result",
     "data": {
      "text/plain": [
       "年月                      0\n",
       "customer_id             0\n",
       "count_0                 0\n",
       "count_1               270\n",
       "name                    0\n",
       "class                   0\n",
       "gender                  0\n",
       "start_date              0\n",
       "end_date             2842\n",
       "campaign_id             0\n",
       "is_deleted              0\n",
       "class_name              0\n",
       "price                   0\n",
       "campaign_name           0\n",
       "mean                    0\n",
       "median                  0\n",
       "max                     0\n",
       "min                     0\n",
       "routine_flg             0\n",
       "calc_date               0\n",
       "membership_period       0\n",
       "exit_date            2842\n",
       "period                  0\n",
       "now_date                0\n",
       "dtype: int64"
      ]
     },
     "metadata": {},
     "execution_count": 92
    }
   ],
   "source": [
    "predict_data.isna().sum()"
   ]
  },
  {
   "cell_type": "code",
   "execution_count": 93,
   "metadata": {},
   "outputs": [
    {
     "output_type": "execute_result",
     "data": {
      "text/plain": [
       "年月                      0\n",
       "customer_id             0\n",
       "count_0                 0\n",
       "count_1                 0\n",
       "name                    0\n",
       "class                   0\n",
       "gender                  0\n",
       "start_date              0\n",
       "end_date             2624\n",
       "campaign_id             0\n",
       "is_deleted              0\n",
       "class_name              0\n",
       "price                   0\n",
       "campaign_name           0\n",
       "mean                    0\n",
       "median                  0\n",
       "max                     0\n",
       "min                     0\n",
       "routine_flg             0\n",
       "calc_date               0\n",
       "membership_period       0\n",
       "exit_date            2624\n",
       "period                  0\n",
       "now_date                0\n",
       "dtype: int64"
      ]
     },
     "metadata": {},
     "execution_count": 93
    }
   ],
   "source": [
    "#end_date,exit_dateは退会していない人は欠損値になるcount_1の欠損値を除外する\n",
    "predict_data = predict_data.dropna(subset=['count_1'])\n",
    "predict_data.isna().sum()"
   ]
  },
  {
   "cell_type": "markdown",
   "metadata": {},
   "source": [
    "### ノック46：文字列型の変数を処理できるように整形しよう"
   ]
  },
  {
   "source": [
    "<img src=\"2021-02-21 7.06.34.png\">"
   ],
   "cell_type": "markdown",
   "metadata": {}
  },
  {
   "cell_type": "code",
   "execution_count": 94,
   "metadata": {},
   "outputs": [
    {
     "output_type": "execute_result",
     "data": {
      "text/plain": [
       "  campaign_name class_name gender  count_1  routine_flg  period  is_deleted\n",
       "0            通常        ナイト      M      8.0          1.0      19         0.0\n",
       "1            通常        ナイト      F      6.0          1.0      14         0.0\n",
       "2            通常     オールタイム      F      3.0          1.0      40         0.0\n",
       "3            通常     オールタイム      F      5.0          1.0      42         0.0\n",
       "4         入会費半額      デイタイム      F      6.0          1.0      15         0.0"
      ],
      "text/html": "<div>\n<style scoped>\n    .dataframe tbody tr th:only-of-type {\n        vertical-align: middle;\n    }\n\n    .dataframe tbody tr th {\n        vertical-align: top;\n    }\n\n    .dataframe thead th {\n        text-align: right;\n    }\n</style>\n<table border=\"1\" class=\"dataframe\">\n  <thead>\n    <tr style=\"text-align: right;\">\n      <th></th>\n      <th>campaign_name</th>\n      <th>class_name</th>\n      <th>gender</th>\n      <th>count_1</th>\n      <th>routine_flg</th>\n      <th>period</th>\n      <th>is_deleted</th>\n    </tr>\n  </thead>\n  <tbody>\n    <tr>\n      <th>0</th>\n      <td>通常</td>\n      <td>ナイト</td>\n      <td>M</td>\n      <td>8.0</td>\n      <td>1.0</td>\n      <td>19</td>\n      <td>0.0</td>\n    </tr>\n    <tr>\n      <th>1</th>\n      <td>通常</td>\n      <td>ナイト</td>\n      <td>F</td>\n      <td>6.0</td>\n      <td>1.0</td>\n      <td>14</td>\n      <td>0.0</td>\n    </tr>\n    <tr>\n      <th>2</th>\n      <td>通常</td>\n      <td>オールタイム</td>\n      <td>F</td>\n      <td>3.0</td>\n      <td>1.0</td>\n      <td>40</td>\n      <td>0.0</td>\n    </tr>\n    <tr>\n      <th>3</th>\n      <td>通常</td>\n      <td>オールタイム</td>\n      <td>F</td>\n      <td>5.0</td>\n      <td>1.0</td>\n      <td>42</td>\n      <td>0.0</td>\n    </tr>\n    <tr>\n      <th>4</th>\n      <td>入会費半額</td>\n      <td>デイタイム</td>\n      <td>F</td>\n      <td>6.0</td>\n      <td>1.0</td>\n      <td>15</td>\n      <td>0.0</td>\n    </tr>\n  </tbody>\n</table>\n</div>"
     },
     "metadata": {},
     "execution_count": 94
    }
   ],
   "source": [
    "target_col = ['campaign_name' , 'class_name' , 'gender','count_1','routine_flg','period','is_deleted']\n",
    "predict_data = predict_data[target_col]\n",
    "predict_data.head()"
   ]
  },
  {
   "cell_type": "code",
   "execution_count": 95,
   "metadata": {},
   "outputs": [
    {
     "output_type": "execute_result",
     "data": {
      "text/plain": [
       "   count_1  routine_flg  period  is_deleted  campaign_name_入会費半額  \\\n",
       "0      8.0          1.0      19         0.0                    0   \n",
       "1      6.0          1.0      14         0.0                    0   \n",
       "2      3.0          1.0      40         0.0                    0   \n",
       "3      5.0          1.0      42         0.0                    0   \n",
       "4      6.0          1.0      15         0.0                    1   \n",
       "\n",
       "   campaign_name_入会費無料  campaign_name_通常  class_name_オールタイム  class_name_デイタイム  \\\n",
       "0                    0                 1                  0                 0   \n",
       "1                    0                 1                  0                 0   \n",
       "2                    0                 1                  1                 0   \n",
       "3                    0                 1                  1                 0   \n",
       "4                    0                 0                  0                 1   \n",
       "\n",
       "   class_name_ナイト  gender_F  gender_M  \n",
       "0               1         0         1  \n",
       "1               1         1         0  \n",
       "2               0         1         0  \n",
       "3               0         1         0  \n",
       "4               0         1         0  "
      ],
      "text/html": "<div>\n<style scoped>\n    .dataframe tbody tr th:only-of-type {\n        vertical-align: middle;\n    }\n\n    .dataframe tbody tr th {\n        vertical-align: top;\n    }\n\n    .dataframe thead th {\n        text-align: right;\n    }\n</style>\n<table border=\"1\" class=\"dataframe\">\n  <thead>\n    <tr style=\"text-align: right;\">\n      <th></th>\n      <th>count_1</th>\n      <th>routine_flg</th>\n      <th>period</th>\n      <th>is_deleted</th>\n      <th>campaign_name_入会費半額</th>\n      <th>campaign_name_入会費無料</th>\n      <th>campaign_name_通常</th>\n      <th>class_name_オールタイム</th>\n      <th>class_name_デイタイム</th>\n      <th>class_name_ナイト</th>\n      <th>gender_F</th>\n      <th>gender_M</th>\n    </tr>\n  </thead>\n  <tbody>\n    <tr>\n      <th>0</th>\n      <td>8.0</td>\n      <td>1.0</td>\n      <td>19</td>\n      <td>0.0</td>\n      <td>0</td>\n      <td>0</td>\n      <td>1</td>\n      <td>0</td>\n      <td>0</td>\n      <td>1</td>\n      <td>0</td>\n      <td>1</td>\n    </tr>\n    <tr>\n      <th>1</th>\n      <td>6.0</td>\n      <td>1.0</td>\n      <td>14</td>\n      <td>0.0</td>\n      <td>0</td>\n      <td>0</td>\n      <td>1</td>\n      <td>0</td>\n      <td>0</td>\n      <td>1</td>\n      <td>1</td>\n      <td>0</td>\n    </tr>\n    <tr>\n      <th>2</th>\n      <td>3.0</td>\n      <td>1.0</td>\n      <td>40</td>\n      <td>0.0</td>\n      <td>0</td>\n      <td>0</td>\n      <td>1</td>\n      <td>1</td>\n      <td>0</td>\n      <td>0</td>\n      <td>1</td>\n      <td>0</td>\n    </tr>\n    <tr>\n      <th>3</th>\n      <td>5.0</td>\n      <td>1.0</td>\n      <td>42</td>\n      <td>0.0</td>\n      <td>0</td>\n      <td>0</td>\n      <td>1</td>\n      <td>1</td>\n      <td>0</td>\n      <td>0</td>\n      <td>1</td>\n      <td>0</td>\n    </tr>\n    <tr>\n      <th>4</th>\n      <td>6.0</td>\n      <td>1.0</td>\n      <td>15</td>\n      <td>0.0</td>\n      <td>1</td>\n      <td>0</td>\n      <td>0</td>\n      <td>0</td>\n      <td>1</td>\n      <td>0</td>\n      <td>1</td>\n      <td>0</td>\n    </tr>\n  </tbody>\n</table>\n</div>"
     },
     "metadata": {},
     "execution_count": 95
    }
   ],
   "source": [
    "#ダミー変数の作成\n",
    "predict_data = pd.get_dummies(predict_data)\n",
    "predict_data.head()"
   ]
  },
  {
   "source": [
    " <img src='スクリーンショット 2021-02-21 7.19.46.png'>\n"
   ],
   "cell_type": "markdown",
   "metadata": {}
  },
  {
   "cell_type": "code",
   "execution_count": 96,
   "metadata": {},
   "outputs": [
    {
     "output_type": "execute_result",
     "data": {
      "text/plain": [
       "   count_1  routine_flg  period  is_deleted  campaign_name_入会費半額  \\\n",
       "0      8.0          1.0      19         0.0                    0   \n",
       "1      6.0          1.0      14         0.0                    0   \n",
       "2      3.0          1.0      40         0.0                    0   \n",
       "3      5.0          1.0      42         0.0                    0   \n",
       "4      6.0          1.0      15         0.0                    1   \n",
       "\n",
       "   campaign_name_入会費無料  class_name_オールタイム  class_name_デイタイム  gender_F  \n",
       "0                    0                  0                 0         0  \n",
       "1                    0                  0                 0         1  \n",
       "2                    0                  1                 0         1  \n",
       "3                    0                  1                 0         1  \n",
       "4                    0                  0                 1         1  "
      ],
      "text/html": "<div>\n<style scoped>\n    .dataframe tbody tr th:only-of-type {\n        vertical-align: middle;\n    }\n\n    .dataframe tbody tr th {\n        vertical-align: top;\n    }\n\n    .dataframe thead th {\n        text-align: right;\n    }\n</style>\n<table border=\"1\" class=\"dataframe\">\n  <thead>\n    <tr style=\"text-align: right;\">\n      <th></th>\n      <th>count_1</th>\n      <th>routine_flg</th>\n      <th>period</th>\n      <th>is_deleted</th>\n      <th>campaign_name_入会費半額</th>\n      <th>campaign_name_入会費無料</th>\n      <th>class_name_オールタイム</th>\n      <th>class_name_デイタイム</th>\n      <th>gender_F</th>\n    </tr>\n  </thead>\n  <tbody>\n    <tr>\n      <th>0</th>\n      <td>8.0</td>\n      <td>1.0</td>\n      <td>19</td>\n      <td>0.0</td>\n      <td>0</td>\n      <td>0</td>\n      <td>0</td>\n      <td>0</td>\n      <td>0</td>\n    </tr>\n    <tr>\n      <th>1</th>\n      <td>6.0</td>\n      <td>1.0</td>\n      <td>14</td>\n      <td>0.0</td>\n      <td>0</td>\n      <td>0</td>\n      <td>0</td>\n      <td>0</td>\n      <td>1</td>\n    </tr>\n    <tr>\n      <th>2</th>\n      <td>3.0</td>\n      <td>1.0</td>\n      <td>40</td>\n      <td>0.0</td>\n      <td>0</td>\n      <td>0</td>\n      <td>1</td>\n      <td>0</td>\n      <td>1</td>\n    </tr>\n    <tr>\n      <th>3</th>\n      <td>5.0</td>\n      <td>1.0</td>\n      <td>42</td>\n      <td>0.0</td>\n      <td>0</td>\n      <td>0</td>\n      <td>1</td>\n      <td>0</td>\n      <td>1</td>\n    </tr>\n    <tr>\n      <th>4</th>\n      <td>6.0</td>\n      <td>1.0</td>\n      <td>15</td>\n      <td>0.0</td>\n      <td>1</td>\n      <td>0</td>\n      <td>0</td>\n      <td>1</td>\n      <td>1</td>\n    </tr>\n  </tbody>\n</table>\n</div>"
     },
     "metadata": {},
     "execution_count": 96
    }
   ],
   "source": [
    "del predict_data['campaign_name_通常']\n",
    "del predict_data['class_name_ナイト']\n",
    "del predict_data['gender_M']\n",
    "predict_data.head()"
   ]
  },
  {
   "cell_type": "markdown",
   "metadata": {},
   "source": [
    "### ノック47：決定木を用いて退会予測モデルを作成してみよう"
   ]
  },
  {
   "cell_type": "code",
   "execution_count": 97,
   "metadata": {},
   "outputs": [
    {
     "output_type": "execute_result",
     "data": {
      "text/plain": [
       "array([0., 1., 0., 1., 0., 1., 0., 0., 1., 1., 1., 1., 0., 1., 1., 1., 1.,\n",
       "       1., 0., 1., 1., 1., 1., 1., 0., 1., 1., 1., 1., 0., 1., 0., 0., 1.,\n",
       "       1., 0., 0., 1., 1., 1., 1., 1., 1., 1., 0., 0., 1., 1., 0., 0., 1.,\n",
       "       0., 0., 1., 0., 1., 1., 1., 1., 1., 1., 0., 0., 0., 1., 0., 1., 1.,\n",
       "       1., 1., 1., 1., 0., 0., 0., 0., 1., 1., 0., 0., 1., 0., 1., 0., 0.,\n",
       "       1., 0., 1., 0., 1., 1., 0., 0., 1., 0., 1., 1., 1., 1., 0., 1., 1.,\n",
       "       1., 0., 1., 0., 1., 1., 1., 0., 1., 0., 1., 1., 0., 1., 0., 1., 0.,\n",
       "       1., 0., 0., 1., 1., 1., 0., 1., 0., 1., 1., 1., 0., 0., 0., 0., 1.,\n",
       "       0., 0., 1., 1., 0., 1., 1., 1., 0., 1., 1., 1., 0., 0., 1., 0., 0.,\n",
       "       0., 1., 1., 1., 0., 1., 1., 0., 1., 0., 0., 1., 0., 0., 0., 0., 0.,\n",
       "       1., 0., 1., 0., 1., 0., 0., 0., 1., 0., 0., 0., 1., 0., 0., 1., 1.,\n",
       "       0., 1., 1., 1., 0., 1., 1., 1., 0., 1., 1., 1., 1., 0., 0., 0., 0.,\n",
       "       0., 1., 1., 1., 1., 1., 1., 1., 0., 0., 0., 0., 1., 0., 0., 0., 1.,\n",
       "       0., 1., 0., 1., 1., 0., 0., 1., 0., 1., 1., 1., 1., 0., 0., 1., 0.,\n",
       "       0., 0., 0., 0., 0., 0., 0., 0., 0., 0., 1., 1., 1., 1., 1., 0., 0.,\n",
       "       0., 0., 0., 1., 0., 1., 1., 1., 0., 0., 0., 1., 0., 0., 0., 0., 1.,\n",
       "       0., 1., 1., 1., 1., 1., 0., 1., 0., 1., 1., 0., 1., 0., 1., 1., 0.,\n",
       "       1., 1., 0., 0., 0., 1., 1., 1., 0., 0., 1., 0., 0., 1., 1., 0., 1.,\n",
       "       0., 0., 0., 0., 1., 0., 0., 1., 0., 0., 0., 0., 0., 1., 1., 1., 0.,\n",
       "       1., 0., 1., 0., 1., 0., 1., 0., 1., 0., 1., 0., 0., 0., 1., 1., 1.,\n",
       "       1., 0., 0., 1., 1., 1., 0., 1., 1., 0., 0., 0., 0., 0., 1., 1., 0.,\n",
       "       1., 1., 0., 0., 1., 1., 0., 0., 0., 1., 0., 0., 1., 0., 1., 0., 1.,\n",
       "       0., 1., 1., 0., 0., 0., 1., 1., 0., 1., 0., 0., 1., 1., 0., 1., 0.,\n",
       "       1., 0., 1., 0., 0., 1., 1., 1., 0., 1., 0., 0., 1., 1., 1., 0., 0.,\n",
       "       0., 0., 1., 0., 1., 1., 0., 1., 0., 0., 1., 0., 0., 0., 1., 1., 1.,\n",
       "       0., 0., 1., 1., 0., 1., 1., 1., 0., 0., 0., 0., 0., 1., 0., 1., 0.,\n",
       "       1., 0., 1., 0., 1., 1., 1., 1., 1., 0., 0., 0., 0., 1., 0., 0., 0.,\n",
       "       0., 0., 1., 1., 1., 0., 0., 1., 0., 0., 0., 1., 1., 0., 1., 1., 1.,\n",
       "       0., 1., 1., 1., 1., 1., 0., 0., 0., 0., 0., 1., 0., 0., 0., 1., 1.,\n",
       "       1., 1., 0., 0., 0., 0., 1., 1., 0., 0., 1., 1., 0., 1., 1., 0., 0.,\n",
       "       0., 0., 0., 0., 1., 0., 1., 1., 0., 0., 0., 0., 0., 1., 0., 1.])"
      ]
     },
     "metadata": {},
     "execution_count": 97
    }
   ],
   "source": [
    "from sklearn.tree import DecisionTreeClassifier\n",
    "import sklearn.model_selection\n",
    "\n",
    "exit = predict_data.loc[predict_data['is_deleted']==1]\n",
    "#contiの数はexitの数に合う様に調整\n",
    "conti = predict_data.loc[predict_data['is_deleted']==0].sample(len(exit))\n",
    "\n",
    "X = pd.concat([exit,conti],ignore_index=True)\n",
    "y = X['is_deleted']\n",
    "del X['is_deleted']\n",
    "X_train,X_test,y_train,y_test = sklearn.model_selection.train_test_split(X,y)\n",
    "\n",
    "model = DecisionTreeClassifier(random_state=0)\n",
    "model.fit(X_train,y_train)\n",
    "y_test_pred = model.predict(X_test)\n",
    "y_test_pred"
   ]
  },
  {
   "cell_type": "code",
   "execution_count": 98,
   "metadata": {},
   "outputs": [
    {
     "output_type": "execute_result",
     "data": {
      "text/plain": [
       "      y_test  y_pred\n",
       "1701     0.0     0.0\n",
       "7        1.0     1.0\n",
       "1175     0.0     0.0\n",
       "793      1.0     1.0\n",
       "1570     0.0     0.0"
      ],
      "text/html": "<div>\n<style scoped>\n    .dataframe tbody tr th:only-of-type {\n        vertical-align: middle;\n    }\n\n    .dataframe tbody tr th {\n        vertical-align: top;\n    }\n\n    .dataframe thead th {\n        text-align: right;\n    }\n</style>\n<table border=\"1\" class=\"dataframe\">\n  <thead>\n    <tr style=\"text-align: right;\">\n      <th></th>\n      <th>y_test</th>\n      <th>y_pred</th>\n    </tr>\n  </thead>\n  <tbody>\n    <tr>\n      <th>1701</th>\n      <td>0.0</td>\n      <td>0.0</td>\n    </tr>\n    <tr>\n      <th>7</th>\n      <td>1.0</td>\n      <td>1.0</td>\n    </tr>\n    <tr>\n      <th>1175</th>\n      <td>0.0</td>\n      <td>0.0</td>\n    </tr>\n    <tr>\n      <th>793</th>\n      <td>1.0</td>\n      <td>1.0</td>\n    </tr>\n    <tr>\n      <th>1570</th>\n      <td>0.0</td>\n      <td>0.0</td>\n    </tr>\n  </tbody>\n</table>\n</div>"
     },
     "metadata": {},
     "execution_count": 98
    }
   ],
   "source": [
    "results_test = pd.DataFrame({'y_test':y_test ,\"y_pred\":y_test_pred})\n",
    "results_test.head()"
   ]
  },
  {
   "cell_type": "markdown",
   "metadata": {},
   "source": [
    "### ノック48：予測モデルの評価を行ない、モデルのチューニングをしてみよう"
   ]
  },
  {
   "cell_type": "code",
   "execution_count": 99,
   "metadata": {},
   "outputs": [
    {
     "output_type": "execute_result",
     "data": {
      "text/plain": [
       "0.9125475285171103"
      ]
     },
     "metadata": {},
     "execution_count": 99
    }
   ],
   "source": [
    "#model.scoreを使用しない計算方法\n",
    "correct = len(results_test.loc[results_test['y_test']==results_test['y_pred']])\n",
    "data_count = len(results_test)\n",
    "score_test = correct/data_count\n",
    "score_test"
   ]
  },
  {
   "cell_type": "code",
   "execution_count": 100,
   "metadata": {},
   "outputs": [
    {
     "output_type": "execute_result",
     "data": {
      "text/plain": [
       "0.9125475285171103"
      ]
     },
     "metadata": {},
     "execution_count": 100
    }
   ],
   "source": [
    "model.score(X_test,y_test)"
   ]
  },
  {
   "cell_type": "code",
   "execution_count": 101,
   "metadata": {},
   "outputs": [
    {
     "output_type": "execute_result",
     "data": {
      "text/plain": [
       "0.9816223067173637"
      ]
     },
     "metadata": {},
     "execution_count": 101
    }
   ],
   "source": [
    "model.score(X_train,y_train)"
   ]
  },
  {
   "source": [
    " <img src='スクリーンショット 2021-02-23 6.54.36.png'>"
   ],
   "cell_type": "markdown",
   "metadata": {}
  },
  {
   "cell_type": "code",
   "execution_count": 102,
   "metadata": {},
   "outputs": [
    {
     "output_type": "execute_result",
     "data": {
      "text/plain": [
       "0.9315589353612167"
      ]
     },
     "metadata": {},
     "execution_count": 102
    }
   ],
   "source": [
    "X = pd.concat([exit,conti],ignore_index=True)\n",
    "y = X['is_deleted']\n",
    "del X['is_deleted']\n",
    "X_train,X_test,y_train,y_test = sklearn.model_selection.train_test_split(X,y)\n",
    "#max_depthを5とし決定技の深さを５階層までにする\n",
    "model = DecisionTreeClassifier(random_state=0,max_depth=5)\n",
    "model.fit(X_train,y_train)\n",
    "model.score(X_train,y_train)"
   ]
  },
  {
   "cell_type": "code",
   "execution_count": 103,
   "metadata": {},
   "outputs": [
    {
     "output_type": "execute_result",
     "data": {
      "text/plain": [
       "0.9239543726235742"
      ]
     },
     "metadata": {},
     "execution_count": 103
    }
   ],
   "source": [
    "model.score(X_test,y_test)"
   ]
  },
  {
   "cell_type": "markdown",
   "metadata": {},
   "source": [
    "### ノック49：モデルに寄与している変数を確認しよう"
   ]
  },
  {
   "cell_type": "code",
   "execution_count": 104,
   "metadata": {},
   "outputs": [
    {
     "output_type": "execute_result",
     "data": {
      "text/plain": [
       "         feature_names  coefficient\n",
       "0              count_1     0.368113\n",
       "1          routine_flg     0.116387\n",
       "2               period     0.515226\n",
       "3  campaign_name_入会費半額     0.000000\n",
       "4  campaign_name_入会費無料     0.000000\n",
       "5    class_name_オールタイム     0.000274\n",
       "6     class_name_デイタイム     0.000000\n",
       "7             gender_F     0.000000"
      ],
      "text/html": "<div>\n<style scoped>\n    .dataframe tbody tr th:only-of-type {\n        vertical-align: middle;\n    }\n\n    .dataframe tbody tr th {\n        vertical-align: top;\n    }\n\n    .dataframe thead th {\n        text-align: right;\n    }\n</style>\n<table border=\"1\" class=\"dataframe\">\n  <thead>\n    <tr style=\"text-align: right;\">\n      <th></th>\n      <th>feature_names</th>\n      <th>coefficient</th>\n    </tr>\n  </thead>\n  <tbody>\n    <tr>\n      <th>0</th>\n      <td>count_1</td>\n      <td>0.368113</td>\n    </tr>\n    <tr>\n      <th>1</th>\n      <td>routine_flg</td>\n      <td>0.116387</td>\n    </tr>\n    <tr>\n      <th>2</th>\n      <td>period</td>\n      <td>0.515226</td>\n    </tr>\n    <tr>\n      <th>3</th>\n      <td>campaign_name_入会費半額</td>\n      <td>0.000000</td>\n    </tr>\n    <tr>\n      <th>4</th>\n      <td>campaign_name_入会費無料</td>\n      <td>0.000000</td>\n    </tr>\n    <tr>\n      <th>5</th>\n      <td>class_name_オールタイム</td>\n      <td>0.000274</td>\n    </tr>\n    <tr>\n      <th>6</th>\n      <td>class_name_デイタイム</td>\n      <td>0.000000</td>\n    </tr>\n    <tr>\n      <th>7</th>\n      <td>gender_F</td>\n      <td>0.000000</td>\n    </tr>\n  </tbody>\n</table>\n</div>"
     },
     "metadata": {},
     "execution_count": 104
    }
   ],
   "source": [
    "#model.feature_importances_で重要変数を取得する\n",
    "importance = pd.DataFrame({'feature_names':X.columns,\"coefficient\":model.feature_importances_})\n",
    "importance"
   ]
  },
  {
   "cell_type": "markdown",
   "metadata": {},
   "source": [
    "### ノック50：顧客の退会を予測しよう"
   ]
  },
  {
   "cell_type": "code",
   "execution_count": 108,
   "metadata": {},
   "outputs": [],
   "source": [
    "count_1 = 3\n",
    "routing_flg = 1\n",
    "period = 10\n",
    "campaign_name = \"入会費無料\"\n",
    "class_name = \"オールタイム\"\n",
    "gender = \"M\""
   ]
  },
  {
   "cell_type": "code",
   "execution_count": 109,
   "metadata": {},
   "outputs": [],
   "source": [
    "if campaign_name == \"入会費半額\":\n",
    "    campaign_name_list = [1, 0]\n",
    "elif campaign_name == \"入会費無料\":\n",
    "    campaign_name_list = [0, 1]\n",
    "elif campaign_name == \"通常\":\n",
    "    campaign_name_list = [0, 0]\n",
    "if class_name == \"オールタイム\":\n",
    "    class_name_list = [1, 0]\n",
    "elif class_name == \"デイタイム\":\n",
    "    class_name_list = [0, 1]\n",
    "elif class_name == \"ナイト\":\n",
    "    class_name_list = [0, 0]\n",
    "if gender == \"F\":\n",
    "    gender_list = [1]\n",
    "elif gender == \"M\":\n",
    "    gender_list = [0]\n",
    "input_data = [count_1, routing_flg, period]\n",
    "input_data.extend(campaign_name_list)\n",
    "input_data.extend(class_name_list)\n",
    "input_data.extend(gender_list)"
   ]
  },
  {
   "cell_type": "code",
   "execution_count": 110,
   "metadata": {},
   "outputs": [
    {
     "output_type": "stream",
     "name": "stdout",
     "text": [
      "[1.]\n[[0. 1.]]\n"
     ]
    }
   ],
   "source": [
    "print(model.predict([input_data]))\n",
    "print(model.predict_proba([input_data]))"
   ]
  },
  {
   "cell_type": "code",
   "execution_count": 72,
   "metadata": {},
   "outputs": [
    {
     "output_type": "execute_result",
     "data": {
      "text/plain": [
       "array([[0., 1.]])"
      ]
     },
     "metadata": {},
     "execution_count": 72
    }
   ],
   "source": []
  },
  {
   "cell_type": "code",
   "execution_count": null,
   "metadata": {},
   "outputs": [],
   "source": []
  }
 ],
 "metadata": {
  "kernelspec": {
   "display_name": "Python 3",
   "language": "python",
   "name": "python3"
  },
  "language_info": {
   "codemirror_mode": {
    "name": "ipython",
    "version": 3
   },
   "file_extension": ".py",
   "mimetype": "text/x-python",
   "name": "python",
   "nbconvert_exporter": "python",
   "pygments_lexer": "ipython3",
   "version": "3.8.5-final"
  }
 },
 "nbformat": 4,
 "nbformat_minor": 2
}